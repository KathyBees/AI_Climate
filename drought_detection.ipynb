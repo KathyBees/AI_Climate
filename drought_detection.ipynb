{
 "cells": [
  {
   "cell_type": "code",
   "execution_count": 1,
   "metadata": {
    "colab": {
     "base_uri": "https://localhost:8080/"
    },
    "id": "ldOn_BV2GwKP",
    "outputId": "865ec8f2-4e19-4602-a406-b49e5c267e75",
    "tags": [
     "remove-cell"
    ]
   },
   "outputs": [
    {
     "name": "stdout",
     "output_type": "stream",
     "text": [
      "Python 3.12.2\n",
      "Requirement already satisfied: matplotlib in /home/sarai-pc-02/miniconda3/lib/python3.12/site-packages (3.9.2)\n",
      "Requirement already satisfied: contourpy>=1.0.1 in /home/sarai-pc-02/miniconda3/lib/python3.12/site-packages (from matplotlib) (1.3.0)\n",
      "Requirement already satisfied: cycler>=0.10 in /home/sarai-pc-02/miniconda3/lib/python3.12/site-packages (from matplotlib) (0.12.1)\n",
      "Requirement already satisfied: fonttools>=4.22.0 in /home/sarai-pc-02/miniconda3/lib/python3.12/site-packages (from matplotlib) (4.54.1)\n",
      "Requirement already satisfied: kiwisolver>=1.3.1 in /home/sarai-pc-02/miniconda3/lib/python3.12/site-packages (from matplotlib) (1.4.7)\n",
      "Requirement already satisfied: numpy>=1.23 in /home/sarai-pc-02/miniconda3/lib/python3.12/site-packages (from matplotlib) (2.1.3)\n",
      "Requirement already satisfied: packaging>=20.0 in /home/sarai-pc-02/miniconda3/lib/python3.12/site-packages (from matplotlib) (24.1)\n",
      "Requirement already satisfied: pillow>=8 in /home/sarai-pc-02/miniconda3/lib/python3.12/site-packages (from matplotlib) (10.4.0)\n",
      "Requirement already satisfied: pyparsing>=2.3.1 in /home/sarai-pc-02/miniconda3/lib/python3.12/site-packages (from matplotlib) (3.2.0)\n",
      "Requirement already satisfied: python-dateutil>=2.7 in /home/sarai-pc-02/miniconda3/lib/python3.12/site-packages (from matplotlib) (2.9.0.post0)\n",
      "Requirement already satisfied: six>=1.5 in /home/sarai-pc-02/miniconda3/lib/python3.12/site-packages (from python-dateutil>=2.7->matplotlib) (1.16.0)\n",
      "Requirement already satisfied: cartopy in /home/sarai-pc-02/miniconda3/lib/python3.12/site-packages (0.24.1)\n",
      "Requirement already satisfied: numpy>=1.23 in /home/sarai-pc-02/miniconda3/lib/python3.12/site-packages (from cartopy) (2.1.3)\n",
      "Requirement already satisfied: matplotlib>=3.6 in /home/sarai-pc-02/miniconda3/lib/python3.12/site-packages (from cartopy) (3.9.2)\n",
      "Requirement already satisfied: shapely>=1.8 in /home/sarai-pc-02/miniconda3/lib/python3.12/site-packages (from cartopy) (2.0.6)\n",
      "Requirement already satisfied: packaging>=21 in /home/sarai-pc-02/miniconda3/lib/python3.12/site-packages (from cartopy) (24.1)\n",
      "Requirement already satisfied: pyshp>=2.3 in /home/sarai-pc-02/miniconda3/lib/python3.12/site-packages (from cartopy) (2.3.1)\n",
      "Requirement already satisfied: pyproj>=3.3.1 in /home/sarai-pc-02/miniconda3/lib/python3.12/site-packages (from cartopy) (3.7.0)\n",
      "Requirement already satisfied: contourpy>=1.0.1 in /home/sarai-pc-02/miniconda3/lib/python3.12/site-packages (from matplotlib>=3.6->cartopy) (1.3.0)\n",
      "Requirement already satisfied: cycler>=0.10 in /home/sarai-pc-02/miniconda3/lib/python3.12/site-packages (from matplotlib>=3.6->cartopy) (0.12.1)\n",
      "Requirement already satisfied: fonttools>=4.22.0 in /home/sarai-pc-02/miniconda3/lib/python3.12/site-packages (from matplotlib>=3.6->cartopy) (4.54.1)\n",
      "Requirement already satisfied: kiwisolver>=1.3.1 in /home/sarai-pc-02/miniconda3/lib/python3.12/site-packages (from matplotlib>=3.6->cartopy) (1.4.7)\n",
      "Requirement already satisfied: pillow>=8 in /home/sarai-pc-02/miniconda3/lib/python3.12/site-packages (from matplotlib>=3.6->cartopy) (10.4.0)\n",
      "Requirement already satisfied: pyparsing>=2.3.1 in /home/sarai-pc-02/miniconda3/lib/python3.12/site-packages (from matplotlib>=3.6->cartopy) (3.2.0)\n",
      "Requirement already satisfied: python-dateutil>=2.7 in /home/sarai-pc-02/miniconda3/lib/python3.12/site-packages (from matplotlib>=3.6->cartopy) (2.9.0.post0)\n",
      "Requirement already satisfied: certifi in /home/sarai-pc-02/miniconda3/lib/python3.12/site-packages (from pyproj>=3.3.1->cartopy) (2024.8.30)\n",
      "Requirement already satisfied: six>=1.5 in /home/sarai-pc-02/miniconda3/lib/python3.12/site-packages (from python-dateutil>=2.7->matplotlib>=3.6->cartopy) (1.16.0)\n"
     ]
    }
   ],
   "source": [
    "# if necessary, install NeuralGCM and dependencies\n",
    "!python --version\n",
    "!pip install -q -U neuralgcm dinosaur-dycore gcsfs\n",
    "!pip install matplotlib\n",
    "!pip install cartopy"
   ]
  },
  {
   "cell_type": "markdown",
   "metadata": {
    "id": "_web7Ad1gunN"
   },
   "source": [
    "# Forecasting quick start\n",
    "\n",
    "This notebook uses ERA5 data and pretrained NeuralGCM model to make a weather forecast.\n",
    "\n",
    "The forecast is made in 3 steps:\n",
    "1. Slice of ERA5 data is regridded to model resolution\n",
    "2. NeuralGCM model state is initialized and rolled out\n",
    "3. Predictions and reference trajectory are combined for visualization\n",
    "\n",
    "By default the notebook uses intermediate deterministic NeuralGCM 1.4° model. Other available checkpoints include deterministic 0.7°, 2.8° and stochastic 1.4° NeuralGCM variations.\n",
    "\n",
    "```{tip}\n",
    "You can run this notebook yourself in [Google Colab](https://colab.research.google.com/github/google-research/neuralgcm/blob/main/docs/inference_demo.ipynb). We recommend using a GPU or TPU runtime due to high memory and compute requirements.\n",
    "```"
   ]
  },
  {
   "cell_type": "markdown",
   "metadata": {},
   "source": [
    "<span style=\"color:green\">NEW</span> Added import for image display, see at end of document \\\n",
    "<span style=\"color:green\">New</span> You Need to install module cartopy"
   ]
  },
  {
   "cell_type": "code",
   "execution_count": 2,
   "metadata": {
    "id": "wTapB9c0AWMJ"
   },
   "outputs": [],
   "source": [
    "import gcsfs\n",
    "import jax\n",
    "import numpy as np\n",
    "import pickle\n",
    "import xarray\n",
    "\n",
    "from dinosaur import horizontal_interpolation\n",
    "from dinosaur import spherical_harmonic\n",
    "from dinosaur import xarray_utils\n",
    "import neuralgcm\n",
    "\n",
    "import matplotlib.pyplot as plt\n",
    "import cartopy\n",
    "\n",
    "from PIL import Image\n",
    "from IPython.display import display\n",
    "\n",
    "gcs = gcsfs.GCSFileSystem(token='anon')"
   ]
  },
  {
   "cell_type": "code",
   "execution_count": 3,
   "metadata": {},
   "outputs": [
    {
     "name": "stdout",
     "output_type": "stream",
     "text": [
      "Requirement already satisfied: xarray in /home/sarai-pc-02/miniconda3/lib/python3.12/site-packages (2024.10.0)\n",
      "Requirement already satisfied: netCDF4 in /home/sarai-pc-02/miniconda3/lib/python3.12/site-packages (1.7.2)\n",
      "Requirement already satisfied: numpy in /home/sarai-pc-02/miniconda3/lib/python3.12/site-packages (2.1.3)\n",
      "Requirement already satisfied: packaging>=23.1 in /home/sarai-pc-02/miniconda3/lib/python3.12/site-packages (from xarray) (24.1)\n",
      "Requirement already satisfied: pandas>=2.1 in /home/sarai-pc-02/miniconda3/lib/python3.12/site-packages (from xarray) (2.2.3)\n",
      "Requirement already satisfied: cftime in /home/sarai-pc-02/miniconda3/lib/python3.12/site-packages (from netCDF4) (1.6.4.post1)\n",
      "Requirement already satisfied: certifi in /home/sarai-pc-02/miniconda3/lib/python3.12/site-packages (from netCDF4) (2024.8.30)\n",
      "Requirement already satisfied: python-dateutil>=2.8.2 in /home/sarai-pc-02/miniconda3/lib/python3.12/site-packages (from pandas>=2.1->xarray) (2.9.0.post0)\n",
      "Requirement already satisfied: pytz>=2020.1 in /home/sarai-pc-02/miniconda3/lib/python3.12/site-packages (from pandas>=2.1->xarray) (2024.1)\n",
      "Requirement already satisfied: tzdata>=2022.7 in /home/sarai-pc-02/miniconda3/lib/python3.12/site-packages (from pandas>=2.1->xarray) (2024.2)\n",
      "Requirement already satisfied: six>=1.5 in /home/sarai-pc-02/miniconda3/lib/python3.12/site-packages (from python-dateutil>=2.8.2->pandas>=2.1->xarray) (1.16.0)\n"
     ]
    }
   ],
   "source": [
    "! pip install xarray netCDF4 numpy\n",
    "\n",
    "import xarray as xr"
   ]
  },
  {
   "cell_type": "markdown",
   "metadata": {},
   "source": [
    "Subset the data to be similar to NeuralGCM"
   ]
  },
  {
   "cell_type": "markdown",
   "metadata": {
    "id": "Q5uFP46Obo80"
   },
   "source": [
    "## Load a pre-trained NeuralGCM model\n",
    "\n",
    "```{caution}\n",
    "Trained model weights are licensed for non-commercial use, under the Creative Commons [Attribution-NonCommercial-ShareAlike 4.0 International](https://creativecommons.org/licenses/by-nc-sa/4.0/) license (CC BY-NC-SA 4.0).\n",
    "```\n",
    "\n",
    "Pre-trained model checkpoints from the NeuralGCM paper are [available for download](https://console.cloud.google.com/storage/browser/gresearch/neuralgcm/04_30_2024) on Google Cloud Storage:\n",
    "\n",
    "- Deterministic models:\n",
    "    - `gs://gresearch/neuralgcm/04_30_2024/neural_gcm_dynamic_forcing_deterministic_0_7_deg.pkl`\n",
    "    - `gs://gresearch/neuralgcm/04_30_2024/neural_gcm_dynamic_forcing_deterministic_1_4_deg.pkl`\n",
    "    - `gs://gresearch/neuralgcm/04_30_2024/neural_gcm_dynamic_forcing_deterministic_2_8_deg.pkl`\n",
    "- Stochastic models:\n",
    "    - `gs://gresearch/neuralgcm/04_30_2024/neural_gcm_dynamic_forcing_stochastic_1_4_deg.pkl`\n",
    "\n",
    "## Need to train it on our own using the inputs from era5"
   ]
  },
  {
   "cell_type": "code",
   "execution_count": 4,
   "metadata": {},
   "outputs": [],
   "source": [
    "drought_variables = [\n",
    "    \"precipitation\",      # To track precipitation deficits\n",
    "    \"evaporation\",        # Water loss through evaporation\n",
    "    \"soil_moisture\",      # Soil water content for agricultural impacts\n",
    "    \"temperature\",        # High temperatures linked to drought\n",
    "    \"specific_humidity\",  # Tracks atmospheric moisture\n",
    "    \"surface_pressure\",   # Indicator of regional pressure systems\n",
    "    \"sea_surface_temp\",   # SST anomalies linked to teleconnections\n",
    "]"
   ]
  },
  {
   "cell_type": "markdown",
   "metadata": {},
   "source": [
    "## Load and modify the model configuration string\n",
    "\n",
    "Ensure that the new variables (precipitation, soil moisture, evapotranspiration) are available in your dataset and properly preprocessed. The data should be regridded to match NeuralGCM's native grid and provided in the correct units. Refer to NeuralGCM's data preparation guidelines for detailed instructions."
   ]
  },
  {
   "cell_type": "code",
   "execution_count": 5,
   "metadata": {},
   "outputs": [],
   "source": [
    "gcs = gcsfs.GCSFileSystem(token='anon')\n",
    "model_name = 'neural_gcm_dynamic_forcing_deterministic_2_8_deg.pkl'\n",
    "with gcs.open(f'gs://gresearch/neuralgcm/04_30_2024/{model_name}', 'rb') as f:\n",
    "    ckpt = pickle.load(f)\n",
    "\n",
    "new_inputs_to_units_mapping = {\n",
    "    'u': 'meter / second',\n",
    "    'v': 'meter / second',\n",
    "    't': 'kelvin',\n",
    "    'z': 'm**2 s**-2',\n",
    "    'sim_time': 'dimensionless',\n",
    "    'tracers': {\n",
    "        'specific_humidity': 'dimensionless',  # Humidity content (kg water vapor/kg air)\n",
    "        'specific_cloud_liquid_water_content': 'dimensionless',  # Cloud liquid water content (kg water/kg air)?\n",
    "        'specific_cloud_ice_water_content': 'dimensionless',  # Cloud ice water content (kg ice/kg air)?\n",
    "        'precipitation': 'meter / second',  # Precipitation rate (m/s or mm/s)\n",
    "        'soil_moisture': 'm3/m3',  # Volumetric soil moisture content (dimensionless, fraction)\n",
    "        'evapotranspiration': 'meter / second',  # Evapotranspiration rate (m/s or mm/s)\n",
    "    },\n",
    "    'diagnostics': {\n",
    "        'surface_pressure': 'kg / (meter s**2)',\n",
    "        'sst_anomalies': 'kelvin',  # SST anomalies in Kelvin\n",
    "        # Add new diagnostic variables if any\n",
    "    }\n",
    "}\n",
    "\n",
    "new_model_config_str = '\\n'.join([\n",
    "    ckpt['model_config_str'],\n",
    "    f'DimensionalLearnedPrimitiveToWeatherbenchDecoder.inputs_to_units_mapping = {new_inputs_to_units_mapping}',\n",
    "    # Include any additional configuration modifications here\n",
    "])\n",
    "ckpt['model_config_str'] = new_model_config_str\n",
    "\n",
    "model = neuralgcm.PressureLevelModel.from_checkpoint(ckpt)"
   ]
  },
  {
   "cell_type": "code",
   "execution_count": 6,
   "metadata": {
    "id": "uQnv1GWKD1iP"
   },
   "outputs": [],
   "source": [
    "#model_name = 'neural_gcm_dynamic_forcing_deterministic_1_4_deg.pkl'  #@param ['neural_gcm_dynamic_forcing_deterministic_0_7_deg.pkl', 'neural_gcm_dynamic_forcing_deterministic_1_4_deg.pkl', 'neural_gcm_dynamic_forcing_deterministic_2_8_deg.pkl', 'neural_gcm_dynamic_forcing_stochastic_1_4_deg.pkl'] {type: \"string\"}\n",
    "\n",
    "#with gcs.open(f'gs://gresearch/neuralgcm/04_30_2024/{model_name}', 'rb') as f:\n",
    "#  ckpt = pickle.load(f)\n",
    "\n",
    "#model = neuralgcm.PressureLevelModel.from_checkpoint(ckpt)"
   ]
  },
  {
   "cell_type": "markdown",
   "metadata": {
    "id": "PpEb_avqbo80"
   },
   "source": [
    "## Load ERA5 data from GCP/Zarr\n",
    "\n",
    "See {doc}`datasets` for details. Leave this part\n"
   ]
  },
  {
   "cell_type": "markdown",
   "metadata": {
    "id": "66ZyTazL6GF7"
   },
   "source": [
    "Select out a few days of data:\n",
    "\n",
    "## Need to change start time and end time\n",
    "\n",
    "Checklist: \\\n",
    "<span style=\"color:green\">NEW</span> Different lon und lat bounds \\\n",
    "<span style=\"color:red\">Decide on start and end time</span> \\"
   ]
  },
  {
   "cell_type": "code",
   "execution_count": 7,
   "metadata": {},
   "outputs": [],
   "source": [
    "#era5_path = 'gs://gcp-public-data-arco-era5/ar/full_37-1h-0p25deg-chunk-1.zarr-v3'\n",
    "#full_era5 = xarray.open_zarr(gcs.get_mapper(era5_path), chunks=None)\n",
    "\n",
    "#used for training as it is short, however empty amo_index and could be a longer range \n",
    "#start_date = '2000-12-10'\n",
    "#end_date = '2014-12-20'\n",
    "\n",
    "#data_inner_steps = 24  # process every 24th hour\n",
    "\n",
    "lat_bounds = [slice(34, 45), slice(34, 51)] \n",
    "lon_bounds = [slice(-25, 19), slice(-20, 10)]  "
   ]
  },
  {
   "cell_type": "code",
   "execution_count": 8,
   "metadata": {},
   "outputs": [],
   "source": [
    "era5_path = 'gs://gcp-public-data-arco-era5/ar/full_37-1h-0p25deg-chunk-1.zarr-v3'\n",
    "full_era5 = xarray.open_zarr(gcs.get_mapper(era5_path), chunks=None)\n",
    "\n",
    "start_time = '2000-02-01'\n",
    "end_time = '2020-02-16'\n",
    "data_inner_steps = 24  # process every 24th hour\n"
   ]
  },
  {
   "cell_type": "markdown",
   "metadata": {},
   "source": [
    "<span style=\"color:green\"></span> Compute anomalies, trends, or indices such as the Atlantic Multidecadal Oscillation (AMO) to understand SST variations over time. \\"
   ]
  },
  {
   "cell_type": "code",
   "execution_count": 9,
   "metadata": {},
   "outputs": [
    {
     "name": "stdout",
     "output_type": "stream",
     "text": [
      "[]\n",
      "<xarray.DataArray 'sea_surface_temperature' (latitude: 0, longitude: 77)> Size: 0B\n",
      "array([], shape=(0, 77), dtype=float32)\n",
      "Coordinates:\n",
      "  * latitude   (latitude) float32 0B \n",
      "  * longitude  (longitude) float32 308B 0.0 0.25 0.5 0.75 ... 18.5 18.75 19.0\n",
      "('latitude', 'longitude')\n",
      "(0, 77)\n",
      "<xarray.DataArray 'sea_surface_temperature' (time: 175704)> Size: 703kB\n",
      "array([nan, nan, nan, ..., nan, nan, nan], dtype=float32)\n",
      "Coordinates:\n",
      "  * time     (time) datetime64[ns] 1MB 2000-02-01 ... 2020-02-16T23:00:00\n"
     ]
    }
   ],
   "source": [
    "# Subset the data\n",
    "sst_subset = full_era5['sea_surface_temperature'].sel(time=slice(start_time, end_time),\n",
    "                                   latitude=lat_bounds[0],\n",
    "                                   longitude=lon_bounds[0])\n",
    "print(sst_subset.values)\n",
    "\n",
    "# Calculate the climatology (mean over the period)\n",
    "sst_subset['time'] = sst_subset.indexes['time']\n",
    "\n",
    "climatology = sst_subset.mean(dim='time') \n",
    "\n",
    "print(climatology)\n",
    "print(climatology.dims)\n",
    "print(climatology.shape)\n",
    "# Compute SST anomalies\n",
    "sst_anomalies = sst_subset - climatology\n",
    "\n",
    "sst_anomalies.to_netcdf('sst_anomalies.nc')\n",
    "\n",
    "# Calculate the AMO index (example)\n",
    "amo_index = sst_anomalies.mean(dim=['latitude', 'longitude'])\n",
    "\n",
    "print(amo_index)"
   ]
  },
  {
   "cell_type": "code",
   "execution_count": 12,
   "metadata": {},
   "outputs": [
    {
     "data": {
      "image/png": "[encoded data removed]",
      "text/plain": [
       "<Figure size 1200x600 with 1 Axes>"
      ]
     },
     "metadata": {},
     "output_type": "display_data"
    }
   ],
   "source": [
    "plt.figure(figsize=(12,6))\n",
    "plt.plot(amo_index, label=\"AMO INDEX\", color=\"b\")\n",
    "plt.axhline(0, color=\"k\", linestyle=\"--\", linewidth=0.8, label=\"Zero Anomaly\")\n",
    "plt.title(\"Atlantic Multidecadal Oscillation (AMO) Index\")\n",
    "plt.xlabel(\"Time\")\n",
    "plt.ylabel(\"AMO Index\")\n",
    "plt.legend()\n",
    "plt.grid(True)\n",
    "plt.tight_layout()\n",
    "plt.show()"
   ]
  },
  {
   "cell_type": "markdown",
   "metadata": {},
   "source": [
    "<span style=\"color:green\"></span>Incorporate the processed SST data or derived indices into your drought prediction model as predictors or covariates."
   ]
  },
  {
   "cell_type": "code",
   "execution_count": 14,
   "metadata": {},
   "outputs": [
    {
     "name": "stdout",
     "output_type": "stream",
     "text": [
      "<xarray.DataArray 'sea_surface_temperature' (time: 175704, latitude: 0,\n",
      "                                             longitude: 77)> Size: 0B\n",
      "array([], shape=(175704, 0, 77), dtype=float32)\n",
      "Coordinates:\n",
      "  * latitude   (latitude) float32 0B \n",
      "  * longitude  (longitude) float32 308B 0.0 0.25 0.5 0.75 ... 18.5 18.75 19.0\n",
      "  * time       (time) datetime64[ns] 1MB 2000-02-01 ... 2020-02-16T23:00:00\n",
      "('time', 'latitude', 'longitude')\n"
     ]
    }
   ],
   "source": [
    "print(sst_anomalies)\n",
    "print(sst_anomalies.dims)\n",
    "# Ensure SST is present\n",
    "if 'sea_surface_temperature' not in full_era5:\n",
    "    raise ValueError(\"SST variable not found in the dataset!\")"
   ]
  },
  {
   "cell_type": "code",
   "execution_count": 15,
   "metadata": {},
   "outputs": [
    {
     "name": "stdout",
     "output_type": "stream",
     "text": [
      "<xarray.DataArray 'mean_total_precipitation_rate' (time: 1323648,\n",
      "                                                   latitude: 721,\n",
      "                                                   longitude: 1440)> Size: 5TB\n",
      "[1374264299520 values with dtype=float32]\n",
      "Coordinates:\n",
      "  * latitude   (latitude) float32 3kB 90.0 89.75 89.5 ... -89.5 -89.75 -90.0\n",
      "  * longitude  (longitude) float32 6kB 0.0 0.25 0.5 0.75 ... 359.2 359.5 359.8\n",
      "  * time       (time) datetime64[ns] 11MB 1900-01-01 ... 2050-12-31T23:00:00\n",
      "Attributes:\n",
      "    long_name:   Mean total precipitation rate\n",
      "    short_name:  mtpr\n",
      "    units:       kg m**-2 s**-1\n",
      "100m_u_component_of_wind\n",
      "100m_v_component_of_wind\n",
      "10m_u_component_of_neutral_wind\n",
      "10m_u_component_of_wind\n",
      "10m_v_component_of_neutral_wind\n",
      "10m_v_component_of_wind\n",
      "10m_wind_gust_since_previous_post_processing\n",
      "instantaneous_10m_wind_gust\n",
      "mean_direction_of_wind_waves\n",
      "mean_period_of_wind_waves\n",
      "mean_wave_period_based_on_first_moment_for_wind_waves\n",
      "mean_wave_period_based_on_second_moment_for_wind_waves\n",
      "ocean_surface_stress_equivalent_10m_neutral_wind_direction\n",
      "ocean_surface_stress_equivalent_10m_neutral_wind_speed\n",
      "significant_height_of_combined_wind_waves_and_swell\n",
      "significant_height_of_wind_waves\n",
      "u_component_of_wind\n",
      "v_component_of_wind\n",
      "wave_spectral_directional_width_for_wind_waves\n"
     ]
    }
   ],
   "source": [
    "print(full_era5[\"mean_total_precipitation_rate\"])\n",
    "for i in full_era5:\n",
    "    if \"wind\" in i:\n",
    "        print(i)"
   ]
  },
  {
   "cell_type": "markdown",
   "metadata": {},
   "source": [
    "<span style=\"color:green\">NEW</span> Add SST anomalies to the input variables of the NeuralGCM model\n",
    "<span style=\"color:green\">TODO</span> Error with too much data -> sliced or maybe on cluster"
   ]
  },
  {
   "cell_type": "code",
   "execution_count": 24,
   "metadata": {
    "id": "9Dbth-nDjM5F"
   },
   "outputs": [
    {
     "name": "stdout",
     "output_type": "stream",
     "text": [
      "Updated Dimensions: FrozenMappingWarningOnValuesAccess({'time': 1323648, 'latitude': 721, 'longitude': 1440, 'level': 37})\n",
      "Updated Coordinates: Coordinates:\n",
      "  * latitude   (latitude) float32 3kB 90.0 89.75 89.5 ... -89.5 -89.75 -90.0\n",
      "  * level      (level) int64 296B 1 2 3 5 7 10 20 ... 875 900 925 950 975 1000\n",
      "  * longitude  (longitude) float32 6kB 0.0 0.25 0.5 0.75 ... 359.2 359.5 359.8\n",
      "  * time       (time) datetime64[ns] 11MB 1900-01-01 ... 2050-12-31T23:00:00\n",
      "5814077152\n"
     ]
    }
   ],
   "source": [
    "import pandas as pd\n",
    "#print(\"Dimensions:\", full_era5.dims)\n",
    "#print(lat_bounds)\n",
    "#print(\"Latitude values:\", full_era5['latitude'].values)\n",
    "#print(lon_bounds)\n",
    "#print(\"Coordinates:\", full_era5.coords)\n",
    "\n",
    "# Verify the change\n",
    "print(\"Updated Dimensions:\", full_era5.dims)\n",
    "print(\"Updated Coordinates:\", full_era5.coords)\n",
    "\n",
    "# Step 1: Subset the region and time range\n",
    "\n",
    "time_bounds = slice(\"2020-01-01\",\"2020-02-01\")\n",
    "\n",
    "lat_bounds = slice(51, 34)  # Latitude bounds (51°N to 34°N)\n",
    "lon_bounds = slice(-20, 10)  # Longitude bounds (-20°W to 10°E)\n",
    "\n",
    "subset = full_era5.sel(latitude=lat_bounds, longitude=lon_bounds, time=time_bounds)\n",
    "\n",
    "print(subset.nbytes)\n",
    "\n",
    "\n",
    "# # Add SST anomalies and other relevant inputs to the dataset\n",
    "# era5_with_sst = xr.Dataset(\n",
    "#     {\n",
    "#         'precipitation': subset.get('mean_total_precipitation_rate', None),\n",
    "#         'temperature': subset.get('temperature', None),\n",
    "#         'specific_humidity': subset.get('specific_humidity', None),\n",
    "#         'sst_anomalies': sst_anomalies,\n",
    "#         'evapotranspiration': subset.get('evaporation', None),\n",
    "#         'soil_moisture': subset.get('volumetric_soil_water_layer_1', None),\n",
    "#         'surface_pressure': subset.get('surface_pressure', None),\n",
    "#     },\n",
    "#     coords={\n",
    "#         'time': subset['time'],\n",
    "#         'latitude': subset['latitude'],\n",
    "#         'longitude': subset['longitude'],\n",
    "#     }\n",
    "# )\n",
    "\n",
    "# # Display the resulting smaller dataset\n",
    "# print(\"Final dataset dimensions and variables:\")\n",
    "# print(era5_with_sst)\n",
    "\n",
    "# era5_with_sst.to_netcdf(\"era5_with_sst.nc\")\n"
   ]
  },
  {
   "cell_type": "code",
   "execution_count": 18,
   "metadata": {},
   "outputs": [],
   "source": [
    "\n",
    "# Load SST anomalies dataset\n",
    "# sst_anomalies_ds = xr.open_dataset('sst_anomalies.nc')\n",
    "# sst_anomalies_ds = sst_anomalies_ds.sel(\n",
    "#    time=era5_ds.time, \n",
    "#    method='nearest'\n",
    "#)\n",
    "\n",
    "#era5_combined = xr.merge([era5_ds, sst_anomalies_ds])"
   ]
  },
  {
   "cell_type": "markdown",
   "metadata": {
    "id": "ivRFAQnt6KKF"
   },
   "source": [
    "Regrid to NeuralGCM's native resolution: <span style=\"color:red\">Rewrite it to use the sst data</span>."
   ]
  },
  {
   "cell_type": "code",
   "execution_count": 19,
   "metadata": {
    "id": "62wVlyCsJ-Jg"
   },
   "outputs": [],
   "source": [
    "#start_date_test = \"2014-12-10\"\n",
    "#end_date_test = \"2014-12-20\"\n",
    "\n",
    "##old code#\n",
    "\n",
    "#sliced_era5 = (\n",
    "#    full_era5[['mean_total_precipitation_rate', 'temperature']]\n",
    "#    .pipe(\n",
    "#        xarray_utils.selective_temporal_shift,\n",
    "#        variables=[],\n",
    "#        time_shift='24 hours',\n",
    "#    )\n",
    "#    .sel(time=slice(start_date, end_date, data_inner_steps))\n",
    "#    .compute()\n",
    "#)\n",
    "\n",
    "\n",
    "#sliced_era5['sst_anomalies'] = sst_anomalies.sel(\n",
    "#    time=slice(start_date, end_date)\n",
    "#)"
   ]
  },
  {
   "cell_type": "code",
   "execution_count": 20,
   "metadata": {},
   "outputs": [],
   "source": [
    "#sst = full_era5['sea_surface_temperature'].sel(latitude=lat_bounds, longitude=lon_bounds, time=time_bounds).fillna(0)"
   ]
  },
  {
   "cell_type": "markdown",
   "metadata": {},
   "source": [
    "## SST ANOMALIES MISSING"
   ]
  },
  {
   "cell_type": "code",
   "execution_count": null,
   "metadata": {},
   "outputs": [],
   "source": [
    "sliced_era5 = (\n",
    "    subset\n",
    "    [model.input_variables + model.forcing_variables]\n",
    "    .pipe(\n",
    "        xarray_utils.selective_temporal_shift,\n",
    "        variables=model.forcing_variables,\n",
    "        time_shift='24 hours',\n",
    "    )\n",
    "    .sel(time=slice(start_time, end_time, data_inner_steps))\n",
    "    .compute()\n",
    ")"
   ]
  },
  {
   "cell_type": "code",
   "execution_count": 27,
   "metadata": {},
   "outputs": [
    {
     "ename": "ValueError",
     "evalue": "inconsistent longitude between data and source grid: [ 0.    0.25  0.5   0.75  1.    1.25  1.5   1.75  2.    2.25  2.5   2.75\n  3.    3.25  3.5   3.75  4.    4.25  4.5   4.75  5.    5.25  5.5   5.75\n  6.    6.25  6.5   6.75  7.    7.25  7.5   7.75  8.    8.25  8.5   8.75\n  9.    9.25  9.5   9.75 10.  ] vs [  0.           8.7804878   17.56097561  26.34146341  35.12195122\n  43.90243902  52.68292683  61.46341463  70.24390244  79.02439024\n  87.80487805  96.58536585 105.36585366 114.14634146 122.92682927\n 131.70731707 140.48780488 149.26829268 158.04878049 166.82926829\n 175.6097561  184.3902439  193.17073171 201.95121951 210.73170732\n 219.51219512 228.29268293 237.07317073 245.85365854 254.63414634\n 263.41463415 272.19512195 280.97560976 289.75609756 298.53658537\n 307.31707317 316.09756098 324.87804878 333.65853659 342.43902439\n 351.2195122 ]",
     "output_type": "error",
     "traceback": [
      "\u001b[0;31m---------------------------------------------------------------------------\u001b[0m",
      "\u001b[0;31mValueError\u001b[0m                                Traceback (most recent call last)",
      "Cell \u001b[0;32mIn[27], line 14\u001b[0m\n\u001b[1;32m      3\u001b[0m era5_grid \u001b[38;5;241m=\u001b[39m spherical_harmonic\u001b[38;5;241m.\u001b[39mGrid(\n\u001b[1;32m      4\u001b[0m     latitude_nodes\u001b[38;5;241m=\u001b[39msubset\u001b[38;5;241m.\u001b[39msizes[\u001b[38;5;124m'\u001b[39m\u001b[38;5;124mlatitude\u001b[39m\u001b[38;5;124m'\u001b[39m],\n\u001b[1;32m      5\u001b[0m     longitude_nodes\u001b[38;5;241m=\u001b[39msubset\u001b[38;5;241m.\u001b[39msizes[\u001b[38;5;124m'\u001b[39m\u001b[38;5;124mlongitude\u001b[39m\u001b[38;5;124m'\u001b[39m],\n\u001b[1;32m      6\u001b[0m     latitude_spacing\u001b[38;5;241m=\u001b[39mxarray_utils\u001b[38;5;241m.\u001b[39minfer_latitude_spacing(subset\u001b[38;5;241m.\u001b[39mlatitude),\n\u001b[1;32m      7\u001b[0m     longitude_offset\u001b[38;5;241m=\u001b[39mxarray_utils\u001b[38;5;241m.\u001b[39minfer_longitude_offset(subset\u001b[38;5;241m.\u001b[39mlongitude),\n\u001b[1;32m      8\u001b[0m )\n\u001b[1;32m     10\u001b[0m regridder \u001b[38;5;241m=\u001b[39m horizontal_interpolation\u001b[38;5;241m.\u001b[39mConservativeRegridder(\n\u001b[1;32m     11\u001b[0m     era5_grid, model\u001b[38;5;241m.\u001b[39mdata_coords\u001b[38;5;241m.\u001b[39mhorizontal, skipna\u001b[38;5;241m=\u001b[39m\u001b[38;5;28;01mTrue\u001b[39;00m\n\u001b[1;32m     12\u001b[0m )\n\u001b[0;32m---> 14\u001b[0m eval_era5 \u001b[38;5;241m=\u001b[39m xarray_utils\u001b[38;5;241m.\u001b[39mregrid(sliced_era5, regridder)\n\u001b[1;32m     15\u001b[0m eval_era5 \u001b[38;5;241m=\u001b[39m xarray_utils\u001b[38;5;241m.\u001b[39mfill_nan_with_nearest(eval_era5)\n\u001b[1;32m     17\u001b[0m eval_era5 \u001b[38;5;241m=\u001b[39m xarray_utils\u001b[38;5;241m.\u001b[39mregrid(sliced_era5, regridder)\n",
      "File \u001b[0;32m~/miniconda3/envs/neuralgcm/lib/python3.11/site-packages/dinosaur/xarray_utils.py:1178\u001b[0m, in \u001b[0;36mregrid\u001b[0;34m(data, regridder, tolerance)\u001b[0m\n\u001b[1;32m   1175\u001b[0m old_lat \u001b[38;5;241m=\u001b[39m np\u001b[38;5;241m.\u001b[39mrad2deg(regridder\u001b[38;5;241m.\u001b[39msource_grid\u001b[38;5;241m.\u001b[39mlatitudes)\n\u001b[1;32m   1177\u001b[0m \u001b[38;5;28;01mif\u001b[39;00m \u001b[38;5;28mabs\u001b[39m(old_lon \u001b[38;5;241m-\u001b[39m data\u001b[38;5;241m.\u001b[39mlongitude\u001b[38;5;241m.\u001b[39mdata)\u001b[38;5;241m.\u001b[39mmax() \u001b[38;5;241m>\u001b[39m tolerance:\n\u001b[0;32m-> 1178\u001b[0m   \u001b[38;5;28;01mraise\u001b[39;00m \u001b[38;5;167;01mValueError\u001b[39;00m(\n\u001b[1;32m   1179\u001b[0m       \u001b[38;5;124m'\u001b[39m\u001b[38;5;124minconsistent longitude between data and source grid:\u001b[39m\u001b[38;5;124m'\u001b[39m\n\u001b[1;32m   1180\u001b[0m       \u001b[38;5;124mf\u001b[39m\u001b[38;5;124m'\u001b[39m\u001b[38;5;124m \u001b[39m\u001b[38;5;132;01m{\u001b[39;00mdata\u001b[38;5;241m.\u001b[39mlongitude\u001b[38;5;241m.\u001b[39mdata\u001b[38;5;132;01m}\u001b[39;00m\u001b[38;5;124m vs \u001b[39m\u001b[38;5;132;01m{\u001b[39;00mold_lon\u001b[38;5;132;01m}\u001b[39;00m\u001b[38;5;124m'\u001b[39m\n\u001b[1;32m   1181\u001b[0m   )\n\u001b[1;32m   1182\u001b[0m \u001b[38;5;28;01mif\u001b[39;00m \u001b[38;5;28mabs\u001b[39m(old_lat \u001b[38;5;241m-\u001b[39m data\u001b[38;5;241m.\u001b[39mlatitude\u001b[38;5;241m.\u001b[39mdata)\u001b[38;5;241m.\u001b[39mmax() \u001b[38;5;241m>\u001b[39m tolerance:\n\u001b[1;32m   1183\u001b[0m   \u001b[38;5;28;01mraise\u001b[39;00m \u001b[38;5;167;01mValueError\u001b[39;00m(\n\u001b[1;32m   1184\u001b[0m       \u001b[38;5;124m'\u001b[39m\u001b[38;5;124minconsistent latitude between data and source grid:\u001b[39m\u001b[38;5;124m'\u001b[39m\n\u001b[1;32m   1185\u001b[0m       \u001b[38;5;124mf\u001b[39m\u001b[38;5;124m'\u001b[39m\u001b[38;5;124m \u001b[39m\u001b[38;5;132;01m{\u001b[39;00mdata\u001b[38;5;241m.\u001b[39mlatitude\u001b[38;5;241m.\u001b[39mdata\u001b[38;5;132;01m}\u001b[39;00m\u001b[38;5;124m vs \u001b[39m\u001b[38;5;132;01m{\u001b[39;00mold_lat\u001b[38;5;132;01m}\u001b[39;00m\u001b[38;5;124m'\u001b[39m\n\u001b[1;32m   1186\u001b[0m   )\n",
      "\u001b[0;31mValueError\u001b[0m: inconsistent longitude between data and source grid: [ 0.    0.25  0.5   0.75  1.    1.25  1.5   1.75  2.    2.25  2.5   2.75\n  3.    3.25  3.5   3.75  4.    4.25  4.5   4.75  5.    5.25  5.5   5.75\n  6.    6.25  6.5   6.75  7.    7.25  7.5   7.75  8.    8.25  8.5   8.75\n  9.    9.25  9.5   9.75 10.  ] vs [  0.           8.7804878   17.56097561  26.34146341  35.12195122\n  43.90243902  52.68292683  61.46341463  70.24390244  79.02439024\n  87.80487805  96.58536585 105.36585366 114.14634146 122.92682927\n 131.70731707 140.48780488 149.26829268 158.04878049 166.82926829\n 175.6097561  184.3902439  193.17073171 201.95121951 210.73170732\n 219.51219512 228.29268293 237.07317073 245.85365854 254.63414634\n 263.41463415 272.19512195 280.97560976 289.75609756 298.53658537\n 307.31707317 316.09756098 324.87804878 333.65853659 342.43902439\n 351.2195122 ]"
     ]
    }
   ],
   "source": [
    "##old code#\n",
    "\n",
    "era5_grid = spherical_harmonic.Grid(\n",
    "    latitude_nodes=subset.sizes['latitude'],\n",
    "    longitude_nodes=subset.sizes['longitude'],\n",
    "    latitude_spacing=xarray_utils.infer_latitude_spacing(subset.latitude),\n",
    "    longitude_offset=xarray_utils.infer_longitude_offset(subset.longitude),\n",
    ")\n",
    "\n",
    "regridder = horizontal_interpolation.ConservativeRegridder(\n",
    "    era5_grid, model.data_coords.horizontal, skipna=True\n",
    ")\n",
    "    \n",
    "eval_era5 = xarray_utils.regrid(sliced_era5, regridder)\n",
    "eval_era5 = xarray_utils.fill_nan_with_nearest(eval_era5)\n",
    "\n",
    "eval_era5 = xarray_utils.regrid(sliced_era5, regridder)\n",
    "eval_era5 = xarray_utils.fill_nan_with_nearest(eval_era5)"
   ]
  },
  {
   "cell_type": "code",
   "execution_count": null,
   "metadata": {},
   "outputs": [],
   "source": [
    "# sliced_era5 = (\n",
    "#     full_era5[['mean_total_precipitation_rate', 'temperature', \"geopotential\", \n",
    "#                \"specific_humidity\", \"u_component_of_wind\", \"v_component_of_wind\", \n",
    "#                \"specific_cloud_ice_water_content\", \"specific_cloud_liquid_water_content\", \n",
    "#                \"sea_ice_cover\", \"sea_surface_temperature\"]]\n",
    "#     .pipe(\n",
    "#         xarray_utils.selective_temporal_shift,\n",
    "#         variables=[],\n",
    "#         time_shift='24 hours',\n",
    "#     )\n",
    "#     .sel(time=slice(start_date, end_date, data_inner_steps))\n",
    "#     .compute()\n",
    "# )\n",
    "\n",
    "# sst = full_era5['sea_surface_temperature'].fillna(0)\n",
    "\n",
    "# sst_filled = xarray_utils.fill_nan_with_nearest(full_era5['sea_surface_temperature'])\n",
    "\n",
    "# # Define NeuralGCM grid\n",
    "# model_grid = spherical_harmonic.Grid(\n",
    "#     latitude_nodes=full_era5.sizes['latitude'],\n",
    "#     longitude_nodes=full_era5.sizes['longitude'],\n",
    "#     latitude_spacing=xarray_utils.infer_latitude_spacing(full_era5.latitude),\n",
    "#     longitude_offset=xarray_utils.infer_longitude_offset(full_era5.longitude),\n",
    "# )\n",
    "\n",
    "# # Create regridder\n",
    "# regridder = horizontal_interpolation.ConservativeRegridder(\n",
    "#     source_grid=model_grid,\n",
    "#     target_grid=model_grid,\n",
    "#     skipna=True\n",
    "# )\n",
    "\n",
    "# # Regrid SST\n",
    "# sst_regridded = xarray_utils.regrid(sst, regridder)\n",
    "\n",
    "# # Add SST to the regridded ERA5 dataset\n",
    "# sliced_era5['sea_surface_temperature'] = sst_regridded\n"
   ]
  },
  {
   "cell_type": "code",
   "execution_count": null,
   "metadata": {},
   "outputs": [],
   "source": [
    "print(sst_anomalies.dims)\n",
    "print(sst_anomalies)"
   ]
  },
  {
   "cell_type": "markdown",
   "metadata": {},
   "source": [
    "<span style=\"color:green\">NEW</span>:Ensure that the combined dataset adheres to NeuralGCM’s expected format."
   ]
  },
  {
   "cell_type": "code",
   "execution_count": null,
   "metadata": {},
   "outputs": [],
   "source": [
    "model_inputs = {\n",
    "    variable: era5_with_sst[variable].values for variable in era5_with_sst.data_vars\n",
    "}"
   ]
  },
  {
   "cell_type": "markdown",
   "metadata": {
    "id": "xrbru3K1bo81"
   },
   "source": [
    "## Make the forecast\n",
    "\n",
    "See {doc}`trained_models` for details."
   ]
  },
  {
   "cell_type": "code",
   "execution_count": null,
   "metadata": {
    "id": "kVCC2pO8eZE0"
   },
   "outputs": [],
   "source": [
    "# Parameters for 30-year rollout\n",
    "# years = 30\n",
    "# days_per_year = 365  # Exclude leap years for simplicity\n",
    "# inner_steps = 24  # Save model outputs every 24 hours\n",
    "# hours_per_day = 24\n",
    "# outer_steps = (days_per_year * years * hours_per_day) // inner_steps  # Total steps for 30 years\n",
    "# timedelta = np.timedelta64(inner_steps, 'h')  # Time interval between model outputs\n",
    "# times = np.arange(outer_steps) * inner_steps  # Time axis in hours\n",
    "\n",
    "# Initialize model state\n",
    "# print(\"Initializing model state...\")\n",
    "# inputs = model.inputs_from_xarray(eval_era5.isel(time=0))\n",
    "# input_forcings = model.forcings_from_xarray(eval_era5.isel(time=0))\n",
    "# rng_key = jax.random.key(42)  # Optional for deterministic models\n",
    "# initial_state = model.encode(inputs, input_forcings, rng_key)\n",
    "\n",
    "# Use persistence for forcing variables (e.g., SST and sea ice cover)\n",
    "# print(\"Using persistent forcing variables...\")\n",
    "# all_forcings = model.forcings_from_xarray(eval_era5.head(time=1))\n",
    "\n",
    "# Make forecast\n",
    "# print(f\"Starting 30-year rollout with {outer_steps} steps...\")\n",
    "# final_state, predictions = model.unroll(\n",
    "#     initial_state,\n",
    "#     all_forcings,\n",
    "#     steps=outer_steps,\n",
    "#     timedelta=timedelta,\n",
    "#     start_with_input=True,\n",
    "# )\n",
    "\n",
    "# Convert predictions to xarray dataset\n",
    "# print(\"Converting predictions to xarray.Dataset...\")\n",
    "# predictions_ds = model.data_to_xarray(predictions, times=times)\n",
    "\n",
    "# Save results to a NetCDF file\n",
    "# output_file = \"30_year_rollout_predictions.nc\"\n",
    "# print(f\"Saving results to {output_file}...\")\n",
    "# predictions_ds.to_netcdf(output_file)\n",
    "\n",
    "# Final message\n",
    "# print(\"30-year rollout completed successfully.\")"
   ]
  },
  {
   "cell_type": "code",
   "execution_count": null,
   "metadata": {},
   "outputs": [],
   "source": [
    "import signal\n",
    "import sys\n",
    "import numpy as np\n",
    "import jax\n",
    "\n",
    "# Parameters for 30-year rollout\n",
    "years = 30\n",
    "days_per_year = 365  # Exclude leap years for simplicity\n",
    "inner_steps = 24  # Save model outputs every 24 hours\n",
    "hours_per_day = 24\n",
    "outer_steps = (days_per_year * years * hours_per_day) // inner_steps  # Total steps for 30 years\n",
    "timedelta = np.timedelta64(inner_steps, 'h')  # Time interval between model outputs\n",
    "times = np.arange(outer_steps) * inner_steps  # Time axis in hours\n",
    "\n",
    "class GracefulExit:\n",
    "    \"\"\"Handles graceful exit and file closing.\"\"\"\n",
    "    def __init__(self, file):\n",
    "        self.file = file\n",
    "        self.is_running = True\n",
    "\n",
    "    def __enter__(self):\n",
    "        return self\n",
    "\n",
    "    def __exit__(self, exc_type, exc_value, traceback):\n",
    "        self.cleanup()\n",
    "\n",
    "    def cleanup(self):\n",
    "        print(\"Shutting down gracefully...\")\n",
    "        if not self.file.closed:\n",
    "            self.file.close()\n",
    "        self.is_running = False\n",
    "\n",
    "# Signal handler to trigger cleanup\n",
    "def handle_signal(signum, frame):\n",
    "    global graceful_exit_context\n",
    "    graceful_exit_context.cleanup()\n",
    "\n",
    "# Register signal handlers\n",
    "signal.signal(signal.SIGINT, handle_signal)\n",
    "signal.signal(signal.SIGTERM, handle_signal)\n",
    "\n",
    "output_file = \"30_year_rollout_predictions.nc\"\n",
    "\n",
    "with open(output_file, \"w\") as nc_file:\n",
    "    with GracefulExit(nc_file) as graceful_exit_context:\n",
    "        try:\n",
    "            # Initialize model state\n",
    "            print(\"Initializing model state...\")\n",
    "            inputs = model.inputs_from_xarray(eval_era5.isel(time=0))\n",
    "            input_forcings = model.forcings_from_xarray(eval_era5.isel(time=0))\n",
    "            rng_key = jax.random.key(42)  # Optional for deterministic models\n",
    "            initial_state = model.encode(inputs, input_forcings, rng_key)\n",
    "\n",
    "            # Use persistence for forcing variables (e.g., SST and sea ice cover)\n",
    "            print(\"Using persistent forcing variables...\")\n",
    "            all_forcings = model.forcings_from_xarray(eval_era5.head(time=1))\n",
    "\n",
    "            # Make forecast\n",
    "            print(f\"Starting 30-year rollout with {outer_steps} steps...\")\n",
    "            final_state, predictions = model.unroll(\n",
    "                initial_state,\n",
    "                all_forcings,\n",
    "                steps=outer_steps,\n",
    "                timedelta=timedelta,\n",
    "                start_with_input=True,\n",
    "            )\n",
    "\n",
    "            # Convert predictions to xarray dataset\n",
    "            print(\"Converting predictions to xarray.Dataset...\")\n",
    "            predictions_ds = model.data_to_xarray(predictions, times=times)\n",
    "\n",
    "            # Save results to a NetCDF file\n",
    "            print(f\"Saving results to {output_file}...\")\n",
    "            predictions_ds.to_netcdf(output_file)\n",
    "\n",
    "            # Final message\n",
    "            print(\"30-year rollout completed successfully.\")\n",
    "\n",
    "        except Exception as e:\n",
    "            print(f\"An error occurred: {e}\")\n",
    "            graceful_exit_context.cleanup()\n",
    "        finally:\n",
    "            print(\"Execution stopped.\")\n"
   ]
  },
  {
   "cell_type": "markdown",
   "metadata": {
    "id": "W7lhecHtbo82"
   },
   "source": [
    "## Compare forecast to ERA5\n",
    "\n",
    "See [WeatherBench2](https://sites.research.google/weatherbench/) for more comprehensive evaluations and archived NeuralGCM forecasts.\n",
    "\n",
    "Can stay like this"
   ]
  },
  {
   "cell_type": "code",
   "execution_count": null,
   "metadata": {
    "colab": {
     "base_uri": "https://localhost:8080/"
    },
    "id": "V-GG0YrV7cMG",
    "outputId": "5438e4b5-aa35-495e-c2b5-7f43494dcb47"
   },
   "outputs": [],
   "source": [
    "# Selecting ERA5 targets from exactly the same time slice\n",
    "target_trajectory = model.inputs_from_xarray(\n",
    "    eval_era5\n",
    "    .thin(time=(inner_steps // data_inner_steps))\n",
    "    .isel(time=slice(outer_steps))\n",
    ")\n",
    "target_data_ds = model.data_to_xarray(target_trajectory, times=times)\n",
    "\n",
    "combined_ds = xarray.concat([target_data_ds, predictions_ds], 'model')\n",
    "combined_ds.coords['model'] = ['ERA5', 'NeuralGCM']"
   ]
  },
  {
   "cell_type": "code",
   "execution_count": null,
   "metadata": {
    "colab": {
     "base_uri": "https://localhost:8080/",
     "height": 806
    },
    "id": "EUoubIO67uTW",
    "outputId": "f2acc749-a9fb-4cab-a10a-b89e2d016791"
   },
   "outputs": [],
   "source": [
    "# Visualize ERA5 vs NeuralGCM trajectories\n",
    "combined_ds.specific_humidity.sel(level=850).plot(\n",
    "    x='longitude', y='latitude', row='time', col='model', robust=True, aspect=2, size=2\n",
    ");"
   ]
  },
  {
   "cell_type": "markdown",
   "metadata": {},
   "source": [
    "## Data Analysis"
   ]
  },
  {
   "cell_type": "code",
   "execution_count": null,
   "metadata": {
    "id": "96H8CLDo3Rzx"
   },
   "outputs": [],
   "source": [
    "\n",
    "ersst_path = \"./data/tos_Omon_GISS-E2-1-G_historical_r1i1p5f1_gn_200101-201412.nc\"\n",
    "ersst_data = xr.open_dataset(ersst_path)\n"
   ]
  },
  {
   "cell_type": "code",
   "execution_count": null,
   "metadata": {},
   "outputs": [],
   "source": [
    "# Subset the data\n",
    "sst_subset = ersst_data['tos'].sel(time=slice(start_time, end_time),\n",
    "                                   lat=lat_bounds[0],\n",
    "                                   lon=lon_bounds[0])\n",
    "print(sst_subset.values)\n",
    "\n",
    "# Calculate the climatology (mean over the period)\n",
    "sst_subset['time'] = sst_subset.indexes['time']\n",
    "\n",
    "climatology = sst_subset.mean(dim='time') \n",
    "\n",
    "print(climatology)\n",
    "print(climatology.dims)\n",
    "print(climatology.shape)\n",
    "# Compute SST anomalies\n",
    "sst_anomalies = sst_subset - climatology\n",
    "\n",
    "sst_anomalies.to_netcdf('sst_anomalies.nc')\n",
    "\n",
    "# Calculate the AMO index (example)\n",
    "amo_index = sst_anomalies.mean(dim=['lat', 'lon'])\n",
    "\n",
    "print(amo_index)"
   ]
  },
  {
   "cell_type": "code",
   "execution_count": null,
   "metadata": {},
   "outputs": [],
   "source": [
    "region = [-24, 26, 35, 45] \n",
    "\n",
    "plt.figure()\n",
    "ax = plt.axes(projection=cartopy.crs.PlateCarree(central_longitude=0))\n",
    "ax.set_global()\n",
    "ax.set_extent(region, crs=cartopy.crs.PlateCarree())\n",
    "ax.gridlines(linestyle='--',color='gray')\n",
    "ax.coastlines()\n",
    "\n",
    "temp_cartopy = ax.pcolormesh(\n",
    "    sst_subset['latitude'], \n",
    "    sst_subset['longitude'], \n",
    "    climatology, \n",
    "    transform=cartopy.crs.PlateCarree(), \n",
    "    shading='auto', \n",
    "    cmap='bwr'\n",
    ")\n",
    "colorbar = plt.colorbar(temp_cartopy, ax=ax, orientation='horizontal', label='Mean Temperature')\n",
    "colorbar.set_label(\"°C\",size=12,rotation=0)\n",
    "plt.title(\"Mean Sea Surface Temperature\")\n",
    "plt.show()"
   ]
  },
  {
   "cell_type": "code",
   "execution_count": null,
   "metadata": {},
   "outputs": [],
   "source": [
    "plt.figure()\n",
    "ax = plt.axes(projection=cartopy.crs.PlateCarree(central_longitude=0))\n",
    "ax.set_global()\n",
    "ax.set_extent(region, crs=cartopy.crs.PlateCarree())\n",
    "ax.gridlines(linestyle='--',color='gray')\n",
    "ax.coastlines()\n",
    "\n",
    "temp_cartopy = ax.pcolormesh(sst_subset['longitude'], sst_subset['latitude'], sst_anomalies[0,:,:], transform=cartopy.crs.PlateCarree(), shading='auto',cmap='bwr')\n",
    "colorbar = plt.colorbar(temp_cartopy, ax=ax, orientation='horizontal', label='SST Anomalies')\n",
    "colorbar.set_label(\"°C\",size=12,rotation=0)\n",
    "plt.title(\"SST Anomalies\")\n",
    "plt.show()"
   ]
  },
  {
   "cell_type": "markdown",
   "metadata": {
    "id": "6tkGJv8VEgFa"
   },
   "source": [
    "## Adding later"
   ]
  },
  {
   "cell_type": "code",
   "execution_count": null,
   "metadata": {},
   "outputs": [],
   "source": [
    "from PIL import Image\n",
    "from IPython.display import display\n",
    "\n",
    "img = Image.open('images/Spain_range_1.png')\n",
    "display(img)"
   ]
  },
  {
   "cell_type": "code",
   "execution_count": null,
   "metadata": {},
   "outputs": [],
   "source": [
    "from PIL import Image\n",
    "from IPython.display import display\n",
    "\n",
    "img = Image.open('images/Spain_range_1.png')\n",
    "display(img)"
   ]
  },
  {
   "cell_type": "code",
   "execution_count": null,
   "metadata": {},
   "outputs": [],
   "source": [
    "img = Image.open('images/Spain_range_1.png')\n",
    "display(img)"
   ]
  },
  {
   "cell_type": "code",
   "execution_count": null,
   "metadata": {},
   "outputs": [],
   "source": []
  }
 ],
 "metadata": {
  "accelerator": "GPU",
  "colab": {
   "gpuType": "T4",
   "provenance": []
  },
  "kernelspec": {
   "display_name": "Python 3.11 (neuralgcm)",
   "language": "python",
   "name": "neuralgcm"
  },
  "language_info": {
   "codemirror_mode": {
    "name": "ipython",
    "version": 3
   },
   "file_extension": ".py",
   "mimetype": "text/x-python",
   "name": "python",
   "nbconvert_exporter": "python",
   "pygments_lexer": "ipython3",
   "version": "3.11.10"
  }
 },
 "nbformat": 4,
 "nbformat_minor": 4
}
