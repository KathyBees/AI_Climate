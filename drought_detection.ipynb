{
 "cells": [
  {
   "cell_type": "code",
   "execution_count": 1,
   "metadata": {
    "colab": {
     "base_uri": "https://localhost:8080/"
    },
    "id": "ldOn_BV2GwKP",
    "outputId": "865ec8f2-4e19-4602-a406-b49e5c267e75",
    "tags": [
     "remove-cell"
    ]
   },
   "outputs": [
    {
     "name": "stdout",
     "output_type": "stream",
     "text": [
      "Python 3.11.10\n",
      "Requirement already satisfied: matplotlib in /home/kit/iti/kd5572/miniconda3/envs/neuralgcm/lib/python3.11/site-packages (3.9.3)\n",
      "Requirement already satisfied: contourpy>=1.0.1 in /home/kit/iti/kd5572/miniconda3/envs/neuralgcm/lib/python3.11/site-packages (from matplotlib) (1.3.1)\n",
      "Requirement already satisfied: cycler>=0.10 in /home/kit/iti/kd5572/miniconda3/envs/neuralgcm/lib/python3.11/site-packages (from matplotlib) (0.12.1)\n",
      "Requirement already satisfied: fonttools>=4.22.0 in /home/kit/iti/kd5572/miniconda3/envs/neuralgcm/lib/python3.11/site-packages (from matplotlib) (4.55.0)\n",
      "Requirement already satisfied: kiwisolver>=1.3.1 in /home/kit/iti/kd5572/miniconda3/envs/neuralgcm/lib/python3.11/site-packages (from matplotlib) (1.4.7)\n",
      "Requirement already satisfied: numpy>=1.23 in /home/kit/iti/kd5572/miniconda3/envs/neuralgcm/lib/python3.11/site-packages (from matplotlib) (2.1.3)\n",
      "Requirement already satisfied: packaging>=20.0 in /home/kit/iti/kd5572/miniconda3/envs/neuralgcm/lib/python3.11/site-packages (from matplotlib) (24.1)\n",
      "Requirement already satisfied: pillow>=8 in /home/kit/iti/kd5572/miniconda3/envs/neuralgcm/lib/python3.11/site-packages (from matplotlib) (11.0.0)\n",
      "Requirement already satisfied: pyparsing>=2.3.1 in /home/kit/iti/kd5572/miniconda3/envs/neuralgcm/lib/python3.11/site-packages (from matplotlib) (3.2.0)\n",
      "Requirement already satisfied: python-dateutil>=2.7 in /home/kit/iti/kd5572/miniconda3/envs/neuralgcm/lib/python3.11/site-packages (from matplotlib) (2.9.0.post0)\n",
      "Requirement already satisfied: six>=1.5 in /home/kit/iti/kd5572/miniconda3/envs/neuralgcm/lib/python3.11/site-packages (from python-dateutil>=2.7->matplotlib) (1.16.0)\n",
      "Requirement already satisfied: cartopy in /home/kit/iti/kd5572/miniconda3/envs/neuralgcm/lib/python3.11/site-packages (0.24.1)\n",
      "Requirement already satisfied: numpy>=1.23 in /home/kit/iti/kd5572/miniconda3/envs/neuralgcm/lib/python3.11/site-packages (from cartopy) (2.1.3)\n",
      "Requirement already satisfied: matplotlib>=3.6 in /home/kit/iti/kd5572/miniconda3/envs/neuralgcm/lib/python3.11/site-packages (from cartopy) (3.9.3)\n",
      "Requirement already satisfied: shapely>=1.8 in /home/kit/iti/kd5572/miniconda3/envs/neuralgcm/lib/python3.11/site-packages (from cartopy) (2.0.6)\n",
      "Requirement already satisfied: packaging>=21 in /home/kit/iti/kd5572/miniconda3/envs/neuralgcm/lib/python3.11/site-packages (from cartopy) (24.1)\n",
      "Requirement already satisfied: pyshp>=2.3 in /home/kit/iti/kd5572/miniconda3/envs/neuralgcm/lib/python3.11/site-packages (from cartopy) (2.3.1)\n",
      "Requirement already satisfied: pyproj>=3.3.1 in /home/kit/iti/kd5572/miniconda3/envs/neuralgcm/lib/python3.11/site-packages (from cartopy) (3.7.0)\n",
      "Requirement already satisfied: contourpy>=1.0.1 in /home/kit/iti/kd5572/miniconda3/envs/neuralgcm/lib/python3.11/site-packages (from matplotlib>=3.6->cartopy) (1.3.1)\n",
      "Requirement already satisfied: cycler>=0.10 in /home/kit/iti/kd5572/miniconda3/envs/neuralgcm/lib/python3.11/site-packages (from matplotlib>=3.6->cartopy) (0.12.1)\n",
      "Requirement already satisfied: fonttools>=4.22.0 in /home/kit/iti/kd5572/miniconda3/envs/neuralgcm/lib/python3.11/site-packages (from matplotlib>=3.6->cartopy) (4.55.0)\n",
      "Requirement already satisfied: kiwisolver>=1.3.1 in /home/kit/iti/kd5572/miniconda3/envs/neuralgcm/lib/python3.11/site-packages (from matplotlib>=3.6->cartopy) (1.4.7)\n",
      "Requirement already satisfied: pillow>=8 in /home/kit/iti/kd5572/miniconda3/envs/neuralgcm/lib/python3.11/site-packages (from matplotlib>=3.6->cartopy) (11.0.0)\n",
      "Requirement already satisfied: pyparsing>=2.3.1 in /home/kit/iti/kd5572/miniconda3/envs/neuralgcm/lib/python3.11/site-packages (from matplotlib>=3.6->cartopy) (3.2.0)\n",
      "Requirement already satisfied: python-dateutil>=2.7 in /home/kit/iti/kd5572/miniconda3/envs/neuralgcm/lib/python3.11/site-packages (from matplotlib>=3.6->cartopy) (2.9.0.post0)\n",
      "Requirement already satisfied: certifi in /home/kit/iti/kd5572/miniconda3/envs/neuralgcm/lib/python3.11/site-packages (from pyproj>=3.3.1->cartopy) (2024.8.30)\n",
      "Requirement already satisfied: six>=1.5 in /home/kit/iti/kd5572/miniconda3/envs/neuralgcm/lib/python3.11/site-packages (from python-dateutil>=2.7->matplotlib>=3.6->cartopy) (1.16.0)\n"
     ]
    }
   ],
   "source": [
    "# if necessary, install NeuralGCM and dependencies\n",
    "!python --version\n",
    "!pip install -q -U neuralgcm dinosaur-dycore gcsfs\n",
    "!pip install matplotlib\n",
    "!pip install cartopy\n",
    "!pip install xarray netCDF4 numpy"
   ]
  },
  {
   "cell_type": "markdown",
   "metadata": {
    "id": "_web7Ad1gunN"
   },
   "source": [
    "## Background and Motivation\n",
    "\n",
    "<span style=\"color:blue\">Todo later</span> Rewrite Introduction, add any relevant thins into here\n",
    "Droughts are natural disasters that are getting worse every year and therefore affecting millions of people by increasing the risk of malnutrition, diseases, wildfires, or forced migration due to droughts. Developing early warning systems and timely interventions is crucial to mitigate the economic, social, and environmental impacts of droughts.\n",
    "\n",
    "\n",
    "\n",
    "<span style=\"color:blue\"> Add other necessary information"
   ]
  },
  {
   "cell_type": "markdown",
   "metadata": {},
   "source": [
    "## Data and Objectives"
   ]
  },
  {
   "cell_type": "markdown",
   "metadata": {},
   "source": [
    "<span style=\"color:blue\"> Todo: Add if something is missing </span> \\\n",
    "\n",
    "Data: \\\n",
    "ERA 5 data \\\n",
    "pretrained NeuralGCM model (intermediate deterministic NeuralGCM 1.4° model) \\\n",
    "SST data \n",
    "\n",
    "Objectives: \\\n",
    "The aim of this project is to make a 30-year roll-out prediction for drought frequency and amplitudes in the region of Spain. "
   ]
  },
  {
   "cell_type": "markdown",
   "metadata": {},
   "source": [
    "## Drought specific variables\n",
    "\n",
    "Evapotranspiration (not in NeuralGCM) \\\n",
    "Precipitation (not in NeuralGCM) \\\n",
    "Temperature \\\n",
    "Specific_humidity \\\n",
    "Sea Surface Temperature (not in NeuralGCM)"
   ]
  },
  {
   "cell_type": "code",
   "execution_count": 22,
   "metadata": {
    "id": "wTapB9c0AWMJ"
   },
   "outputs": [],
   "source": [
    "import gcsfs\n",
    "import jax\n",
    "import numpy as np\n",
    "import pickle\n",
    "import xarray as xr\n",
    "\n",
    "from dinosaur import horizontal_interpolation\n",
    "from dinosaur import spherical_harmonic\n",
    "from dinosaur import xarray_utils\n",
    "import neuralgcm\n",
    "\n",
    "import matplotlib.pyplot as plt\n",
    "import cartopy\n",
    "import pandas as pd\n",
    "import signal\n",
    "import sys\n",
    "import jax\n",
    "\n",
    "from PIL import Image\n",
    "from IPython.display import display\n",
    "from scipy.stats import norm\n",
    "from numba import jit\n",
    "\n",
    "gcs = gcsfs.GCSFileSystem(token='anon')"
   ]
  },
  {
   "cell_type": "code",
   "execution_count": 2,
   "metadata": {},
   "outputs": [],
   "source": [
    "ersst_path = \"./data/tos_Omon_GISS-E2-1-G_historical_r1i1p5f1_gn_200101-201412.nc\"\n",
    "ersst_data = xr.open_dataset(ersst_path)"
   ]
  },
  {
   "cell_type": "markdown",
   "metadata": {
    "id": "Q5uFP46Obo80"
   },
   "source": [
    "## Load a pre-trained NeuralGCM model\n",
    "\n",
    "```{caution}\n",
    "Trained model weights are licensed for non-commercial use, under the Creative Commons [Attribution-NonCommercial-ShareAlike 4.0 International](https://creativecommons.org/licenses/by-nc-sa/4.0/) license (CC BY-NC-SA 4.0).\n",
    "```\n",
    "\n",
    "Pre-trained model checkpoints from the NeuralGCM paper are [available for download](https://console.cloud.google.com/storage/browser/gresearch/neuralgcm/04_30_2024) on Google Cloud Storage:\n",
    "\n",
    "- Deterministic models:\n",
    "    - `gs://gresearch/neuralgcm/04_30_2024/neural_gcm_dynamic_forcing_deterministic_0_7_deg.pkl`\n",
    "    - `gs://gresearch/neuralgcm/04_30_2024/neural_gcm_dynamic_forcing_deterministic_1_4_deg.pkl`\n",
    "    - `gs://gresearch/neuralgcm/04_30_2024/neural_gcm_dynamic_forcing_deterministic_2_8_deg.pkl`\n",
    "- Stochastic models:\n",
    "    - `gs://gresearch/neuralgcm/04_30_2024/neural_gcm_dynamic_forcing_stochastic_1_4_deg.pkl`"
   ]
  },
  {
   "cell_type": "code",
   "execution_count": 19,
   "metadata": {},
   "outputs": [
    {
     "name": "stderr",
     "output_type": "stream",
     "text": [
      "/tmp/ipykernel_70987/981810831.py:4: DeprecationWarning: Pickled array contains an aval with a named_shape attribute. This is deprecated and the code path supporting such avals will be removed. Please re-pickle the array.\n",
      "  ckpt = pickle.load(f)\n"
     ]
    }
   ],
   "source": [
    "gcs = gcsfs.GCSFileSystem(token='anon')\n",
    "model_name = 'neural_gcm_dynamic_forcing_deterministic_2_8_deg.pkl'\n",
    "with gcs.open(f'gs://gresearch/neuralgcm/04_30_2024/{model_name}', 'rb') as f:\n",
    "    ckpt = pickle.load(f)"
   ]
  },
  {
   "cell_type": "markdown",
   "metadata": {},
   "source": [
    "## Change checkpoint to include surface pressure as a variable as an output and enforce a constant global mean log surface pressure"
   ]
  },
  {
   "cell_type": "code",
   "execution_count": 20,
   "metadata": {},
   "outputs": [],
   "source": [
    "new_inputs_to_units_mapping = {\n",
    "    'u': 'meter / second',\n",
    "    'v': 'meter / second',\n",
    "    't': 'kelvin',\n",
    "    'z': 'm**2 s**-2',\n",
    "    'sim_time': 'dimensionless',\n",
    "    'tracers': {'specific_humidity': 'dimensionless',\n",
    "                'specific_cloud_liquid_water_content': 'dimensionless',\n",
    "                'specific_cloud_ice_water_content': 'dimensionless',\n",
    "    },\n",
    "\n",
    "    'diagnostics': {\n",
    "        'surface_pressure': 'kg / (meter s**2)',\n",
    "        'sst_anomalies': 'kelvin', \n",
    "        'P_minus_E_cumulative': 'kg / (meter**2)'\n",
    "        # Add new diagnostic variables if any\n",
    "    }\n",
    "}\n",
    "\n",
    "new_model_config_str = '\\n'.join([\n",
    "        ckpt['model_config_str'],\n",
    "        f'DimensionalLearnedPrimitiveToWeatherbenchDecoder.inputs_to_units_mapping = {new_inputs_to_units_mapping}',\n",
    "        'DimensionalLearnedPrimitiveToWeatherbenchDecoder.diagnostics_module = @NodalModelDiagnosticsDecoder',\n",
    "        'StochasticPhysicsParameterizationStep.diagnostics_module = @PrecipitationMinusEvaporationDiagnostics',\n",
    "        'PrecipitationMinusEvaporationDiagnostics.method = \"cumulative\"',\n",
    "        'PrecipitationMinusEvaporationDiagnostics.moisture_species =  (\"specific_humidity\", \"specific_cloud_liquid_water_content\", \"specific_cloud_ice_water_content\")',])\n",
    "\n",
    "ckpt['model_config_str'] = new_model_config_str\n",
    "\n",
    "model = neuralgcm.PressureLevelModel.from_checkpoint(ckpt)"
   ]
  },
  {
   "cell_type": "markdown",
   "metadata": {
    "id": "66ZyTazL6GF7"
   },
   "source": [
    "## Subset the data and compute some variables\n",
    "<span style=\"color:red\">TODO </span> SST still NAN for Spain\n",
    "\n",
    "<span style=\"color:blue\">TODO later </span> Add short info about AMO and SST Anomalies?\n",
    "\n",
    "## <span style =\"color:red\"> Need to change start time and end time\n",
    "Chose data: Start_time = 1940-01-01, End_time = 1989-12-31"
   ]
  },
  {
   "cell_type": "code",
   "execution_count": 31,
   "metadata": {},
   "outputs": [],
   "source": [
    "start_time = '1989-01-01'\n",
    "end_time = '1998-01-02'\n",
    "data_inner_steps = 24\n",
    "\n",
    "lat_bounds = [slice(34, 45), slice(34, 51)] \n",
    "lon_bounds = [slice(-25, 19), slice(-20, 10)]  "
   ]
  },
  {
   "cell_type": "code",
   "execution_count": 8,
   "metadata": {},
   "outputs": [],
   "source": [
    "sst_subset = ersst_data['tos'].sel(time=slice(start_time, end_time),\n",
    "                                   lat=lat_bounds[0],\n",
    "                                   lon=lon_bounds[0])\n",
    "\n",
    "sst_subset['time'] = sst_subset.indexes['time']\n",
    "climatology = sst_subset.mean(dim='time') \n",
    "\n",
    "sst_anomalies = sst_subset - climatology\n",
    "sst_anomalies.to_netcdf('sst_anomalies.nc')\n",
    "amo_index = sst_anomalies.mean(dim=['lat', 'lon'])"
   ]
  },
  {
   "cell_type": "markdown",
   "metadata": {},
   "source": [
    "## Visualization of these computed values"
   ]
  },
  {
   "cell_type": "code",
   "execution_count": 32,
   "metadata": {},
   "outputs": [
    {
     "data": {
      "image/png": "[encoded data removed]",
      "text/plain": [
       "<Figure size 640x480 with 2 Axes>"
      ]
     },
     "metadata": {},
     "output_type": "display_data"
    }
   ],
   "source": [
    "region = [-24, 26, 35, 45] \n",
    "\n",
    "plt.figure()\n",
    "ax = plt.axes(projection=cartopy.crs.PlateCarree(central_longitude=0))\n",
    "ax.set_global()\n",
    "ax.set_extent(region, crs=cartopy.crs.PlateCarree())\n",
    "ax.gridlines(linestyle='--',color='gray')\n",
    "ax.coastlines()\n",
    "\n",
    "temp_cartopy = ax.pcolormesh(\n",
    "    sst_subset['lon'], \n",
    "    sst_subset['lat'], \n",
    "    climatology, \n",
    "    transform=cartopy.crs.PlateCarree(), \n",
    "    shading='auto', \n",
    "    cmap='bwr'\n",
    ")\n",
    "colorbar = plt.colorbar(temp_cartopy, ax=ax, orientation='horizontal', label='Mean Temperature')\n",
    "colorbar.set_label(\"°C\",size=12,rotation=0)\n",
    "plt.title(\"Mean Sea Surface Temperature\")\n",
    "plt.show()"
   ]
  },
  {
   "cell_type": "code",
   "execution_count": 33,
   "metadata": {},
   "outputs": [
    {
     "ename": "IndexError",
     "evalue": "index 0 is out of bounds for axis 0 with size 0",
     "output_type": "error",
     "traceback": [
      "\u001b[0;31m---------------------------------------------------------------------------\u001b[0m",
      "\u001b[0;31mIndexError\u001b[0m                                Traceback (most recent call last)",
      "Cell \u001b[0;32mIn[33], line 8\u001b[0m\n\u001b[1;32m      5\u001b[0m ax\u001b[38;5;241m.\u001b[39mgridlines(linestyle\u001b[38;5;241m=\u001b[39m\u001b[38;5;124m'\u001b[39m\u001b[38;5;124m--\u001b[39m\u001b[38;5;124m'\u001b[39m,color\u001b[38;5;241m=\u001b[39m\u001b[38;5;124m'\u001b[39m\u001b[38;5;124mgray\u001b[39m\u001b[38;5;124m'\u001b[39m)\n\u001b[1;32m      6\u001b[0m ax\u001b[38;5;241m.\u001b[39mcoastlines()\n\u001b[0;32m----> 8\u001b[0m temp_cartopy \u001b[38;5;241m=\u001b[39m ax\u001b[38;5;241m.\u001b[39mpcolormesh(sst_subset[\u001b[38;5;124m'\u001b[39m\u001b[38;5;124mlon\u001b[39m\u001b[38;5;124m'\u001b[39m], sst_subset[\u001b[38;5;124m'\u001b[39m\u001b[38;5;124mlat\u001b[39m\u001b[38;5;124m'\u001b[39m], \u001b[43msst_anomalies\u001b[49m\u001b[43m[\u001b[49m\u001b[38;5;241;43m0\u001b[39;49m\u001b[43m,\u001b[49m\u001b[43m:\u001b[49m\u001b[43m,\u001b[49m\u001b[43m:\u001b[49m\u001b[43m]\u001b[49m, transform\u001b[38;5;241m=\u001b[39mcartopy\u001b[38;5;241m.\u001b[39mcrs\u001b[38;5;241m.\u001b[39mPlateCarree(), shading\u001b[38;5;241m=\u001b[39m\u001b[38;5;124m'\u001b[39m\u001b[38;5;124mauto\u001b[39m\u001b[38;5;124m'\u001b[39m,cmap\u001b[38;5;241m=\u001b[39m\u001b[38;5;124m'\u001b[39m\u001b[38;5;124mbwr\u001b[39m\u001b[38;5;124m'\u001b[39m)\n\u001b[1;32m      9\u001b[0m colorbar \u001b[38;5;241m=\u001b[39m plt\u001b[38;5;241m.\u001b[39mcolorbar(temp_cartopy, ax\u001b[38;5;241m=\u001b[39max, orientation\u001b[38;5;241m=\u001b[39m\u001b[38;5;124m'\u001b[39m\u001b[38;5;124mhorizontal\u001b[39m\u001b[38;5;124m'\u001b[39m, label\u001b[38;5;241m=\u001b[39m\u001b[38;5;124m'\u001b[39m\u001b[38;5;124mSST Anomalies\u001b[39m\u001b[38;5;124m'\u001b[39m)\n\u001b[1;32m     10\u001b[0m colorbar\u001b[38;5;241m.\u001b[39mset_label(\u001b[38;5;124m\"\u001b[39m\u001b[38;5;124m°C\u001b[39m\u001b[38;5;124m\"\u001b[39m,size\u001b[38;5;241m=\u001b[39m\u001b[38;5;241m12\u001b[39m,rotation\u001b[38;5;241m=\u001b[39m\u001b[38;5;241m0\u001b[39m)\n",
      "File \u001b[0;32m~/anaconda3/envs/NeuralGCM/lib/python3.10/site-packages/xarray/core/dataarray.py:901\u001b[0m, in \u001b[0;36mDataArray.__getitem__\u001b[0;34m(self, key)\u001b[0m\n\u001b[1;32m    898\u001b[0m     \u001b[38;5;28;01mreturn\u001b[39;00m \u001b[38;5;28mself\u001b[39m\u001b[38;5;241m.\u001b[39m_getitem_coord(key)\n\u001b[1;32m    899\u001b[0m \u001b[38;5;28;01melse\u001b[39;00m:\n\u001b[1;32m    900\u001b[0m     \u001b[38;5;66;03m# xarray-style array indexing\u001b[39;00m\n\u001b[0;32m--> 901\u001b[0m     \u001b[38;5;28;01mreturn\u001b[39;00m \u001b[38;5;28;43mself\u001b[39;49m\u001b[38;5;241;43m.\u001b[39;49m\u001b[43misel\u001b[49m\u001b[43m(\u001b[49m\u001b[43mindexers\u001b[49m\u001b[38;5;241;43m=\u001b[39;49m\u001b[38;5;28;43mself\u001b[39;49m\u001b[38;5;241;43m.\u001b[39;49m\u001b[43m_item_key_to_dict\u001b[49m\u001b[43m(\u001b[49m\u001b[43mkey\u001b[49m\u001b[43m)\u001b[49m\u001b[43m)\u001b[49m\n",
      "File \u001b[0;32m~/anaconda3/envs/NeuralGCM/lib/python3.10/site-packages/xarray/core/dataarray.py:1540\u001b[0m, in \u001b[0;36mDataArray.isel\u001b[0;34m(self, indexers, drop, missing_dims, **indexers_kwargs)\u001b[0m\n\u001b[1;32m   1535\u001b[0m     \u001b[38;5;28;01mreturn\u001b[39;00m \u001b[38;5;28mself\u001b[39m\u001b[38;5;241m.\u001b[39m_from_temp_dataset(ds)\n\u001b[1;32m   1537\u001b[0m \u001b[38;5;66;03m# Much faster algorithm for when all indexers are ints, slices, one-dimensional\u001b[39;00m\n\u001b[1;32m   1538\u001b[0m \u001b[38;5;66;03m# lists, or zero or one-dimensional np.ndarray's\u001b[39;00m\n\u001b[0;32m-> 1540\u001b[0m variable \u001b[38;5;241m=\u001b[39m \u001b[38;5;28;43mself\u001b[39;49m\u001b[38;5;241;43m.\u001b[39;49m\u001b[43m_variable\u001b[49m\u001b[38;5;241;43m.\u001b[39;49m\u001b[43misel\u001b[49m\u001b[43m(\u001b[49m\u001b[43mindexers\u001b[49m\u001b[43m,\u001b[49m\u001b[43m \u001b[49m\u001b[43mmissing_dims\u001b[49m\u001b[38;5;241;43m=\u001b[39;49m\u001b[43mmissing_dims\u001b[49m\u001b[43m)\u001b[49m\n\u001b[1;32m   1541\u001b[0m indexes, index_variables \u001b[38;5;241m=\u001b[39m isel_indexes(\u001b[38;5;28mself\u001b[39m\u001b[38;5;241m.\u001b[39mxindexes, indexers)\n\u001b[1;32m   1543\u001b[0m coords \u001b[38;5;241m=\u001b[39m {}\n",
      "File \u001b[0;32m~/anaconda3/envs/NeuralGCM/lib/python3.10/site-packages/xarray/core/variable.py:1049\u001b[0m, in \u001b[0;36mVariable.isel\u001b[0;34m(self, indexers, missing_dims, **indexers_kwargs)\u001b[0m\n\u001b[1;32m   1046\u001b[0m indexers \u001b[38;5;241m=\u001b[39m drop_dims_from_indexers(indexers, \u001b[38;5;28mself\u001b[39m\u001b[38;5;241m.\u001b[39mdims, missing_dims)\n\u001b[1;32m   1048\u001b[0m key \u001b[38;5;241m=\u001b[39m \u001b[38;5;28mtuple\u001b[39m(indexers\u001b[38;5;241m.\u001b[39mget(dim, \u001b[38;5;28mslice\u001b[39m(\u001b[38;5;28;01mNone\u001b[39;00m)) \u001b[38;5;28;01mfor\u001b[39;00m dim \u001b[38;5;129;01min\u001b[39;00m \u001b[38;5;28mself\u001b[39m\u001b[38;5;241m.\u001b[39mdims)\n\u001b[0;32m-> 1049\u001b[0m \u001b[38;5;28;01mreturn\u001b[39;00m \u001b[38;5;28;43mself\u001b[39;49m\u001b[43m[\u001b[49m\u001b[43mkey\u001b[49m\u001b[43m]\u001b[49m\n",
      "File \u001b[0;32m~/anaconda3/envs/NeuralGCM/lib/python3.10/site-packages/xarray/core/variable.py:816\u001b[0m, in \u001b[0;36mVariable.__getitem__\u001b[0;34m(self, key)\u001b[0m\n\u001b[1;32m    813\u001b[0m dims, indexer, new_order \u001b[38;5;241m=\u001b[39m \u001b[38;5;28mself\u001b[39m\u001b[38;5;241m.\u001b[39m_broadcast_indexes(key)\n\u001b[1;32m    814\u001b[0m indexable \u001b[38;5;241m=\u001b[39m as_indexable(\u001b[38;5;28mself\u001b[39m\u001b[38;5;241m.\u001b[39m_data)\n\u001b[0;32m--> 816\u001b[0m data \u001b[38;5;241m=\u001b[39m \u001b[43mindexing\u001b[49m\u001b[38;5;241;43m.\u001b[39;49m\u001b[43mapply_indexer\u001b[49m\u001b[43m(\u001b[49m\u001b[43mindexable\u001b[49m\u001b[43m,\u001b[49m\u001b[43m \u001b[49m\u001b[43mindexer\u001b[49m\u001b[43m)\u001b[49m\n\u001b[1;32m    818\u001b[0m \u001b[38;5;28;01mif\u001b[39;00m new_order:\n\u001b[1;32m    819\u001b[0m     data \u001b[38;5;241m=\u001b[39m np\u001b[38;5;241m.\u001b[39mmoveaxis(data, \u001b[38;5;28mrange\u001b[39m(\u001b[38;5;28mlen\u001b[39m(new_order)), new_order)\n",
      "File \u001b[0;32m~/anaconda3/envs/NeuralGCM/lib/python3.10/site-packages/xarray/core/indexing.py:1033\u001b[0m, in \u001b[0;36mapply_indexer\u001b[0;34m(indexable, indexer)\u001b[0m\n\u001b[1;32m   1031\u001b[0m     \u001b[38;5;28;01mreturn\u001b[39;00m indexable\u001b[38;5;241m.\u001b[39moindex[indexer]\n\u001b[1;32m   1032\u001b[0m \u001b[38;5;28;01melse\u001b[39;00m:\n\u001b[0;32m-> 1033\u001b[0m     \u001b[38;5;28;01mreturn\u001b[39;00m \u001b[43mindexable\u001b[49m\u001b[43m[\u001b[49m\u001b[43mindexer\u001b[49m\u001b[43m]\u001b[49m\n",
      "File \u001b[0;32m~/anaconda3/envs/NeuralGCM/lib/python3.10/site-packages/xarray/core/indexing.py:1522\u001b[0m, in \u001b[0;36mNumpyIndexingAdapter.__getitem__\u001b[0;34m(self, indexer)\u001b[0m\n\u001b[1;32m   1518\u001b[0m \u001b[38;5;66;03m# We want 0d slices rather than scalars. This is achieved by\u001b[39;00m\n\u001b[1;32m   1519\u001b[0m \u001b[38;5;66;03m# appending an ellipsis (see\u001b[39;00m\n\u001b[1;32m   1520\u001b[0m \u001b[38;5;66;03m# https://numpy.org/doc/stable/reference/arrays.indexing.html#detailed-notes).\u001b[39;00m\n\u001b[1;32m   1521\u001b[0m key \u001b[38;5;241m=\u001b[39m indexer\u001b[38;5;241m.\u001b[39mtuple \u001b[38;5;241m+\u001b[39m (\u001b[38;5;28mEllipsis\u001b[39m,)\n\u001b[0;32m-> 1522\u001b[0m \u001b[38;5;28;01mreturn\u001b[39;00m \u001b[43marray\u001b[49m\u001b[43m[\u001b[49m\u001b[43mkey\u001b[49m\u001b[43m]\u001b[49m\n",
      "\u001b[0;31mIndexError\u001b[0m: index 0 is out of bounds for axis 0 with size 0"
     ]
    },
    {
     "data": {
      "image/png": "[encoded data removed]",
      "text/plain": [
       "<Figure size 640x480 with 1 Axes>"
      ]
     },
     "metadata": {},
     "output_type": "display_data"
    }
   ],
   "source": [
    "plt.figure()\n",
    "ax = plt.axes(projection=cartopy.crs.PlateCarree(central_longitude=0))\n",
    "ax.set_global()\n",
    "ax.set_extent(region, crs=cartopy.crs.PlateCarree())\n",
    "ax.gridlines(linestyle='--',color='gray')\n",
    "ax.coastlines()\n",
    "\n",
    "temp_cartopy = ax.pcolormesh(sst_subset['lon'], sst_subset['lat'], sst_anomalies[0,:,:], transform=cartopy.crs.PlateCarree(), shading='auto',cmap='bwr')\n",
    "colorbar = plt.colorbar(temp_cartopy, ax=ax, orientation='horizontal', label='SST Anomalies')\n",
    "colorbar.set_label(\"°C\",size=12,rotation=0)\n",
    "plt.title(\"SST Anomalies\")\n",
    "plt.show()"
   ]
  },
  {
   "cell_type": "code",
   "execution_count": 34,
   "metadata": {},
   "outputs": [
    {
     "data": {
      "image/png": "[encoded data removed]",
      "text/plain": [
       "<Figure size 1200x600 with 1 Axes>"
      ]
     },
     "metadata": {},
     "output_type": "display_data"
    }
   ],
   "source": [
    "plt.figure(figsize=(12,6))\n",
    "plt.plot(amo_index, label=\"AMO INDEX\", color=\"b\")\n",
    "plt.axhline(0, color=\"k\", linestyle=\"--\", linewidth=0.8, label=\"Zero Anomaly\")\n",
    "plt.title(\"Atlantic Multidecadal Oscillation (AMO) Index\")\n",
    "plt.xlabel(\"Time\")\n",
    "plt.ylabel(\"AMO Index\")\n",
    "plt.legend()\n",
    "plt.grid(True)\n",
    "plt.tight_layout()\n",
    "plt.show()"
   ]
  },
  {
   "cell_type": "markdown",
   "metadata": {},
   "source": [
    "## Load ERA5 data from GCP/Zarr"
   ]
  },
  {
   "cell_type": "code",
   "execution_count": 35,
   "metadata": {},
   "outputs": [],
   "source": [
    "era5_path = 'gs://gcp-public-data-arco-era5/ar/full_37-1h-0p25deg-chunk-1.zarr-v3'\n",
    "full_era5 = xr.open_zarr(gcs.get_mapper(era5_path), chunks=None)"
   ]
  },
  {
   "cell_type": "markdown",
   "metadata": {},
   "source": [
    "<span style=\"color:green\"></span>Incorporate the processed SST data or derived indices into your drought prediction model as predictors or covariates. \\\n",
    "<span style=\"color:blue\">Todo later</span> Remove the next two boxes"
   ]
  },
  {
   "cell_type": "code",
   "execution_count": 36,
   "metadata": {},
   "outputs": [
    {
     "name": "stdout",
     "output_type": "stream",
     "text": [
      "<xarray.DataArray 'tos' (time: 0, lat: 6, lon: 8)> Size: 0B\n",
      "array([], shape=(0, 6, 8), dtype=float32)\n",
      "Coordinates:\n",
      "  * lat      (lat) float64 48B 35.0 37.0 39.0 41.0 43.0 45.0\n",
      "  * lon      (lon) float64 64B 1.25 3.75 6.25 8.75 11.25 13.75 16.25 18.75\n",
      "  * time     (time) object 0B \n",
      "('time', 'lat', 'lon')\n"
     ]
    }
   ],
   "source": [
    "#sst_anomalies = sst_anomalies.rename({'lat': 'latitude', 'lon': 'longitude'})\n",
    "print(sst_anomalies)\n",
    "print(sst_anomalies.dims)\n",
    "\n",
    "if 'sea_surface_temperature' not in full_era5:\n",
    "    raise ValueError(\"SST variable not found in the dataset!\")"
   ]
  },
  {
   "cell_type": "code",
   "execution_count": 37,
   "metadata": {},
   "outputs": [
    {
     "name": "stdout",
     "output_type": "stream",
     "text": [
      "<xarray.DataArray 'mean_total_precipitation_rate' (time: 1323648,\n",
      "                                                   latitude: 721,\n",
      "                                                   longitude: 1440)> Size: 5TB\n",
      "[1374264299520 values with dtype=float32]\n",
      "Coordinates:\n",
      "  * latitude   (latitude) float32 3kB 90.0 89.75 89.5 ... -89.5 -89.75 -90.0\n",
      "  * longitude  (longitude) float32 6kB 0.0 0.25 0.5 0.75 ... 359.2 359.5 359.8\n",
      "  * time       (time) datetime64[ns] 11MB 1900-01-01 ... 2050-12-31T23:00:00\n",
      "Attributes:\n",
      "    long_name:   Mean total precipitation rate\n",
      "    short_name:  mtpr\n",
      "    units:       kg m**-2 s**-1\n",
      "100m_u_component_of_wind\n",
      "100m_v_component_of_wind\n",
      "10m_u_component_of_neutral_wind\n",
      "10m_u_component_of_wind\n",
      "10m_v_component_of_neutral_wind\n",
      "10m_v_component_of_wind\n",
      "10m_wind_gust_since_previous_post_processing\n",
      "instantaneous_10m_wind_gust\n",
      "mean_direction_of_wind_waves\n",
      "mean_period_of_wind_waves\n",
      "mean_wave_period_based_on_first_moment_for_wind_waves\n",
      "mean_wave_period_based_on_second_moment_for_wind_waves\n",
      "ocean_surface_stress_equivalent_10m_neutral_wind_direction\n",
      "ocean_surface_stress_equivalent_10m_neutral_wind_speed\n",
      "significant_height_of_combined_wind_waves_and_swell\n",
      "significant_height_of_wind_waves\n",
      "u_component_of_wind\n",
      "v_component_of_wind\n",
      "wave_spectral_directional_width_for_wind_waves\n"
     ]
    }
   ],
   "source": [
    "print(full_era5[\"mean_total_precipitation_rate\"])\n",
    "for i in full_era5:\n",
    "    if \"wind\" in i:\n",
    "        print(i)"
   ]
  },
  {
   "cell_type": "markdown",
   "metadata": {},
   "source": [
    "## <span style=\"color:red\"> TODO</span> set different time\n",
    "01-01-1960, 01-01-1990"
   ]
  },
  {
   "cell_type": "code",
   "execution_count": 39,
   "metadata": {
    "id": "9Dbth-nDjM5F"
   },
   "outputs": [],
   "source": [
    "# Step 1: Subset the region and time range\n",
    "time_bounds = slice('1990-01-01' ,'1990-01-02')\n",
    "lat_bounds = slice(51, 34)  \n",
    "lon_bounds = slice(-20, 10)\n",
    "subset = full_era5.sel(latitude=lat_bounds, longitude=lon_bounds, time=time_bounds)"
   ]
  },
  {
   "cell_type": "markdown",
   "metadata": {
    "id": "ivRFAQnt6KKF"
   },
   "source": [
    "## Regrid to NeuralGCM's native resolution: "
   ]
  },
  {
   "cell_type": "code",
   "execution_count": 40,
   "metadata": {},
   "outputs": [
    {
     "ename": "MemoryError",
     "evalue": "Unable to allocate 471. GiB for an array with shape (3289, 37, 721, 1440) and data type float32",
     "output_type": "error",
     "traceback": [
      "\u001b[0;31m---------------------------------------------------------------------------\u001b[0m",
      "\u001b[0;31mMemoryError\u001b[0m                               Traceback (most recent call last)",
      "Cell \u001b[0;32mIn[40], line 10\u001b[0m\n\u001b[1;32m      1\u001b[0m sliced_era5 \u001b[38;5;241m=\u001b[39m (\n\u001b[1;32m      2\u001b[0m     \u001b[43mfull_era5\u001b[49m\n\u001b[1;32m      3\u001b[0m \u001b[43m    \u001b[49m\u001b[43m[\u001b[49m\u001b[43mmodel\u001b[49m\u001b[38;5;241;43m.\u001b[39;49m\u001b[43minput_variables\u001b[49m\u001b[43m \u001b[49m\u001b[38;5;241;43m+\u001b[39;49m\u001b[43m \u001b[49m\u001b[43mmodel\u001b[49m\u001b[38;5;241;43m.\u001b[39;49m\u001b[43mforcing_variables\u001b[49m\u001b[43m]\u001b[49m\n\u001b[1;32m      4\u001b[0m \u001b[43m    \u001b[49m\u001b[38;5;241;43m.\u001b[39;49m\u001b[43mpipe\u001b[49m\u001b[43m(\u001b[49m\n\u001b[1;32m      5\u001b[0m \u001b[43m        \u001b[49m\u001b[43mxarray_utils\u001b[49m\u001b[38;5;241;43m.\u001b[39;49m\u001b[43mselective_temporal_shift\u001b[49m\u001b[43m,\u001b[49m\n\u001b[1;32m      6\u001b[0m \u001b[43m        \u001b[49m\u001b[43mvariables\u001b[49m\u001b[38;5;241;43m=\u001b[39;49m\u001b[43mmodel\u001b[49m\u001b[38;5;241;43m.\u001b[39;49m\u001b[43mforcing_variables\u001b[49m\u001b[43m,\u001b[49m\n\u001b[1;32m      7\u001b[0m \u001b[43m        \u001b[49m\u001b[43mtime_shift\u001b[49m\u001b[38;5;241;43m=\u001b[39;49m\u001b[38;5;124;43m'\u001b[39;49m\u001b[38;5;124;43m24 hours\u001b[39;49m\u001b[38;5;124;43m'\u001b[39;49m\u001b[43m,\u001b[49m\n\u001b[1;32m      8\u001b[0m \u001b[43m    \u001b[49m\u001b[43m)\u001b[49m\n\u001b[1;32m      9\u001b[0m \u001b[43m    \u001b[49m\u001b[38;5;241;43m.\u001b[39;49m\u001b[43msel\u001b[49m\u001b[43m(\u001b[49m\u001b[43mtime\u001b[49m\u001b[38;5;241;43m=\u001b[39;49m\u001b[38;5;28;43mslice\u001b[39;49m\u001b[43m(\u001b[49m\u001b[43mstart_time\u001b[49m\u001b[43m,\u001b[49m\u001b[43m \u001b[49m\u001b[43mend_time\u001b[49m\u001b[43m,\u001b[49m\u001b[43m \u001b[49m\u001b[43mdata_inner_steps\u001b[49m\u001b[43m)\u001b[49m\u001b[43m)\u001b[49m\n\u001b[0;32m---> 10\u001b[0m \u001b[43m    \u001b[49m\u001b[38;5;241;43m.\u001b[39;49m\u001b[43mcompute\u001b[49m\u001b[43m(\u001b[49m\u001b[43m)\u001b[49m\n\u001b[1;32m     11\u001b[0m )\n\u001b[1;32m     13\u001b[0m era5_grid \u001b[38;5;241m=\u001b[39m spherical_harmonic\u001b[38;5;241m.\u001b[39mGrid(\n\u001b[1;32m     14\u001b[0m     latitude_nodes\u001b[38;5;241m=\u001b[39mfull_era5\u001b[38;5;241m.\u001b[39msizes[\u001b[38;5;124m'\u001b[39m\u001b[38;5;124mlatitude\u001b[39m\u001b[38;5;124m'\u001b[39m],\n\u001b[1;32m     15\u001b[0m     longitude_nodes\u001b[38;5;241m=\u001b[39mfull_era5\u001b[38;5;241m.\u001b[39msizes[\u001b[38;5;124m'\u001b[39m\u001b[38;5;124mlongitude\u001b[39m\u001b[38;5;124m'\u001b[39m],\n\u001b[1;32m     16\u001b[0m     latitude_spacing\u001b[38;5;241m=\u001b[39mxarray_utils\u001b[38;5;241m.\u001b[39minfer_latitude_spacing(full_era5\u001b[38;5;241m.\u001b[39mlatitude),\n\u001b[1;32m     17\u001b[0m     longitude_offset\u001b[38;5;241m=\u001b[39mxarray_utils\u001b[38;5;241m.\u001b[39minfer_longitude_offset(full_era5\u001b[38;5;241m.\u001b[39mlongitude),\n\u001b[1;32m     18\u001b[0m )\n\u001b[1;32m     20\u001b[0m regridder \u001b[38;5;241m=\u001b[39m horizontal_interpolation\u001b[38;5;241m.\u001b[39mConservativeRegridder(\n\u001b[1;32m     21\u001b[0m     era5_grid, model\u001b[38;5;241m.\u001b[39mdata_coords\u001b[38;5;241m.\u001b[39mhorizontal, skipna\u001b[38;5;241m=\u001b[39m\u001b[38;5;28;01mTrue\u001b[39;00m\n\u001b[1;32m     22\u001b[0m )\n",
      "File \u001b[0;32m~/anaconda3/envs/NeuralGCM/lib/python3.10/site-packages/xarray/core/dataset.py:1046\u001b[0m, in \u001b[0;36mDataset.compute\u001b[0;34m(self, **kwargs)\u001b[0m\n\u001b[1;32m   1022\u001b[0m \u001b[38;5;250m\u001b[39m\u001b[38;5;124;03m\"\"\"Manually trigger loading and/or computation of this dataset's data\u001b[39;00m\n\u001b[1;32m   1023\u001b[0m \u001b[38;5;124;03mfrom disk or a remote source into memory and return a new dataset.\u001b[39;00m\n\u001b[1;32m   1024\u001b[0m \u001b[38;5;124;03mUnlike load, the original dataset is left unaltered.\u001b[39;00m\n\u001b[0;32m   (...)\u001b[0m\n\u001b[1;32m   1043\u001b[0m \u001b[38;5;124;03mdask.compute\u001b[39;00m\n\u001b[1;32m   1044\u001b[0m \u001b[38;5;124;03m\"\"\"\u001b[39;00m\n\u001b[1;32m   1045\u001b[0m new \u001b[38;5;241m=\u001b[39m \u001b[38;5;28mself\u001b[39m\u001b[38;5;241m.\u001b[39mcopy(deep\u001b[38;5;241m=\u001b[39m\u001b[38;5;28;01mFalse\u001b[39;00m)\n\u001b[0;32m-> 1046\u001b[0m \u001b[38;5;28;01mreturn\u001b[39;00m \u001b[43mnew\u001b[49m\u001b[38;5;241;43m.\u001b[39;49m\u001b[43mload\u001b[49m\u001b[43m(\u001b[49m\u001b[38;5;241;43m*\u001b[39;49m\u001b[38;5;241;43m*\u001b[39;49m\u001b[43mkwargs\u001b[49m\u001b[43m)\u001b[49m\n",
      "File \u001b[0;32m~/anaconda3/envs/NeuralGCM/lib/python3.10/site-packages/xarray/core/dataset.py:883\u001b[0m, in \u001b[0;36mDataset.load\u001b[0;34m(self, **kwargs)\u001b[0m\n\u001b[1;32m    881\u001b[0m \u001b[38;5;28;01mfor\u001b[39;00m k, v \u001b[38;5;129;01min\u001b[39;00m \u001b[38;5;28mself\u001b[39m\u001b[38;5;241m.\u001b[39mvariables\u001b[38;5;241m.\u001b[39mitems():\n\u001b[1;32m    882\u001b[0m     \u001b[38;5;28;01mif\u001b[39;00m k \u001b[38;5;129;01mnot\u001b[39;00m \u001b[38;5;129;01min\u001b[39;00m lazy_data:\n\u001b[0;32m--> 883\u001b[0m         \u001b[43mv\u001b[49m\u001b[38;5;241;43m.\u001b[39;49m\u001b[43mload\u001b[49m\u001b[43m(\u001b[49m\u001b[43m)\u001b[49m\n\u001b[1;32m    885\u001b[0m \u001b[38;5;28;01mreturn\u001b[39;00m \u001b[38;5;28mself\u001b[39m\n",
      "File \u001b[0;32m~/anaconda3/envs/NeuralGCM/lib/python3.10/site-packages/xarray/core/variable.py:992\u001b[0m, in \u001b[0;36mVariable.load\u001b[0;34m(self, **kwargs)\u001b[0m\n\u001b[1;32m    975\u001b[0m \u001b[38;5;28;01mdef\u001b[39;00m \u001b[38;5;21mload\u001b[39m(\u001b[38;5;28mself\u001b[39m, \u001b[38;5;241m*\u001b[39m\u001b[38;5;241m*\u001b[39mkwargs):\n\u001b[1;32m    976\u001b[0m \u001b[38;5;250m    \u001b[39m\u001b[38;5;124;03m\"\"\"Manually trigger loading of this variable's data from disk or a\u001b[39;00m\n\u001b[1;32m    977\u001b[0m \u001b[38;5;124;03m    remote source into memory and return this variable.\u001b[39;00m\n\u001b[1;32m    978\u001b[0m \n\u001b[0;32m   (...)\u001b[0m\n\u001b[1;32m    990\u001b[0m \u001b[38;5;124;03m    dask.array.compute\u001b[39;00m\n\u001b[1;32m    991\u001b[0m \u001b[38;5;124;03m    \"\"\"\u001b[39;00m\n\u001b[0;32m--> 992\u001b[0m     \u001b[38;5;28mself\u001b[39m\u001b[38;5;241m.\u001b[39m_data \u001b[38;5;241m=\u001b[39m \u001b[43mto_duck_array\u001b[49m\u001b[43m(\u001b[49m\u001b[38;5;28;43mself\u001b[39;49m\u001b[38;5;241;43m.\u001b[39;49m\u001b[43m_data\u001b[49m\u001b[43m,\u001b[49m\u001b[43m \u001b[49m\u001b[38;5;241;43m*\u001b[39;49m\u001b[38;5;241;43m*\u001b[39;49m\u001b[43mkwargs\u001b[49m\u001b[43m)\u001b[49m\n\u001b[1;32m    993\u001b[0m     \u001b[38;5;28;01mreturn\u001b[39;00m \u001b[38;5;28mself\u001b[39m\n",
      "File \u001b[0;32m~/anaconda3/envs/NeuralGCM/lib/python3.10/site-packages/xarray/namedarray/pycompat.py:134\u001b[0m, in \u001b[0;36mto_duck_array\u001b[0;34m(data, **kwargs)\u001b[0m\n\u001b[1;32m    131\u001b[0m     \u001b[38;5;28;01mreturn\u001b[39;00m loaded_data\n\u001b[1;32m    133\u001b[0m \u001b[38;5;28;01mif\u001b[39;00m \u001b[38;5;28misinstance\u001b[39m(data, ExplicitlyIndexed):\n\u001b[0;32m--> 134\u001b[0m     \u001b[38;5;28;01mreturn\u001b[39;00m \u001b[43mdata\u001b[49m\u001b[38;5;241;43m.\u001b[39;49m\u001b[43mget_duck_array\u001b[49m\u001b[43m(\u001b[49m\u001b[43m)\u001b[49m  \u001b[38;5;66;03m# type: ignore[no-untyped-call, no-any-return]\u001b[39;00m\n\u001b[1;32m    135\u001b[0m \u001b[38;5;28;01melif\u001b[39;00m is_duck_array(data):\n\u001b[1;32m    136\u001b[0m     \u001b[38;5;28;01mreturn\u001b[39;00m data\n",
      "File \u001b[0;32m~/anaconda3/envs/NeuralGCM/lib/python3.10/site-packages/xarray/core/indexing.py:840\u001b[0m, in \u001b[0;36mMemoryCachedArray.get_duck_array\u001b[0;34m(self)\u001b[0m\n\u001b[1;32m    839\u001b[0m \u001b[38;5;28;01mdef\u001b[39;00m \u001b[38;5;21mget_duck_array\u001b[39m(\u001b[38;5;28mself\u001b[39m):\n\u001b[0;32m--> 840\u001b[0m     \u001b[38;5;28;43mself\u001b[39;49m\u001b[38;5;241;43m.\u001b[39;49m\u001b[43m_ensure_cached\u001b[49m\u001b[43m(\u001b[49m\u001b[43m)\u001b[49m\n\u001b[1;32m    841\u001b[0m     \u001b[38;5;28;01mreturn\u001b[39;00m \u001b[38;5;28mself\u001b[39m\u001b[38;5;241m.\u001b[39marray\u001b[38;5;241m.\u001b[39mget_duck_array()\n",
      "File \u001b[0;32m~/anaconda3/envs/NeuralGCM/lib/python3.10/site-packages/xarray/core/indexing.py:837\u001b[0m, in \u001b[0;36mMemoryCachedArray._ensure_cached\u001b[0;34m(self)\u001b[0m\n\u001b[1;32m    836\u001b[0m \u001b[38;5;28;01mdef\u001b[39;00m \u001b[38;5;21m_ensure_cached\u001b[39m(\u001b[38;5;28mself\u001b[39m):\n\u001b[0;32m--> 837\u001b[0m     \u001b[38;5;28mself\u001b[39m\u001b[38;5;241m.\u001b[39marray \u001b[38;5;241m=\u001b[39m as_indexable(\u001b[38;5;28;43mself\u001b[39;49m\u001b[38;5;241;43m.\u001b[39;49m\u001b[43marray\u001b[49m\u001b[38;5;241;43m.\u001b[39;49m\u001b[43mget_duck_array\u001b[49m\u001b[43m(\u001b[49m\u001b[43m)\u001b[49m)\n",
      "File \u001b[0;32m~/anaconda3/envs/NeuralGCM/lib/python3.10/site-packages/xarray/core/indexing.py:794\u001b[0m, in \u001b[0;36mCopyOnWriteArray.get_duck_array\u001b[0;34m(self)\u001b[0m\n\u001b[1;32m    793\u001b[0m \u001b[38;5;28;01mdef\u001b[39;00m \u001b[38;5;21mget_duck_array\u001b[39m(\u001b[38;5;28mself\u001b[39m):\n\u001b[0;32m--> 794\u001b[0m     \u001b[38;5;28;01mreturn\u001b[39;00m \u001b[38;5;28;43mself\u001b[39;49m\u001b[38;5;241;43m.\u001b[39;49m\u001b[43marray\u001b[49m\u001b[38;5;241;43m.\u001b[39;49m\u001b[43mget_duck_array\u001b[49m\u001b[43m(\u001b[49m\u001b[43m)\u001b[49m\n",
      "File \u001b[0;32m~/anaconda3/envs/NeuralGCM/lib/python3.10/site-packages/xarray/core/indexing.py:657\u001b[0m, in \u001b[0;36mLazilyIndexedArray.get_duck_array\u001b[0;34m(self)\u001b[0m\n\u001b[1;32m    653\u001b[0m     array \u001b[38;5;241m=\u001b[39m apply_indexer(\u001b[38;5;28mself\u001b[39m\u001b[38;5;241m.\u001b[39marray, \u001b[38;5;28mself\u001b[39m\u001b[38;5;241m.\u001b[39mkey)\n\u001b[1;32m    654\u001b[0m \u001b[38;5;28;01melse\u001b[39;00m:\n\u001b[1;32m    655\u001b[0m     \u001b[38;5;66;03m# If the array is not an ExplicitlyIndexedNDArrayMixin,\u001b[39;00m\n\u001b[1;32m    656\u001b[0m     \u001b[38;5;66;03m# it may wrap a BackendArray so use its __getitem__\u001b[39;00m\n\u001b[0;32m--> 657\u001b[0m     array \u001b[38;5;241m=\u001b[39m \u001b[38;5;28;43mself\u001b[39;49m\u001b[38;5;241;43m.\u001b[39;49m\u001b[43marray\u001b[49m\u001b[43m[\u001b[49m\u001b[38;5;28;43mself\u001b[39;49m\u001b[38;5;241;43m.\u001b[39;49m\u001b[43mkey\u001b[49m\u001b[43m]\u001b[49m\n\u001b[1;32m    659\u001b[0m \u001b[38;5;66;03m# self.array[self.key] is now a numpy array when\u001b[39;00m\n\u001b[1;32m    660\u001b[0m \u001b[38;5;66;03m# self.array is a BackendArray subclass\u001b[39;00m\n\u001b[1;32m    661\u001b[0m \u001b[38;5;66;03m# and self.key is BasicIndexer((slice(None, None, None),))\u001b[39;00m\n\u001b[1;32m    662\u001b[0m \u001b[38;5;66;03m# so we need the explicit check for ExplicitlyIndexed\u001b[39;00m\n\u001b[1;32m    663\u001b[0m \u001b[38;5;28;01mif\u001b[39;00m \u001b[38;5;28misinstance\u001b[39m(array, ExplicitlyIndexed):\n",
      "File \u001b[0;32m~/anaconda3/envs/NeuralGCM/lib/python3.10/site-packages/xarray/backends/zarr.py:166\u001b[0m, in \u001b[0;36mZarrArrayWrapper.__getitem__\u001b[0;34m(self, key)\u001b[0m\n\u001b[1;32m    164\u001b[0m \u001b[38;5;28;01melif\u001b[39;00m \u001b[38;5;28misinstance\u001b[39m(key, indexing\u001b[38;5;241m.\u001b[39mOuterIndexer):\n\u001b[1;32m    165\u001b[0m     method \u001b[38;5;241m=\u001b[39m \u001b[38;5;28mself\u001b[39m\u001b[38;5;241m.\u001b[39m_oindex\n\u001b[0;32m--> 166\u001b[0m \u001b[38;5;28;01mreturn\u001b[39;00m \u001b[43mindexing\u001b[49m\u001b[38;5;241;43m.\u001b[39;49m\u001b[43mexplicit_indexing_adapter\u001b[49m\u001b[43m(\u001b[49m\n\u001b[1;32m    167\u001b[0m \u001b[43m    \u001b[49m\u001b[43mkey\u001b[49m\u001b[43m,\u001b[49m\u001b[43m \u001b[49m\u001b[43marray\u001b[49m\u001b[38;5;241;43m.\u001b[39;49m\u001b[43mshape\u001b[49m\u001b[43m,\u001b[49m\u001b[43m \u001b[49m\u001b[43mindexing\u001b[49m\u001b[38;5;241;43m.\u001b[39;49m\u001b[43mIndexingSupport\u001b[49m\u001b[38;5;241;43m.\u001b[39;49m\u001b[43mVECTORIZED\u001b[49m\u001b[43m,\u001b[49m\u001b[43m \u001b[49m\u001b[43mmethod\u001b[49m\n\u001b[1;32m    168\u001b[0m \u001b[43m\u001b[49m\u001b[43m)\u001b[49m\n",
      "File \u001b[0;32m~/anaconda3/envs/NeuralGCM/lib/python3.10/site-packages/xarray/core/indexing.py:1018\u001b[0m, in \u001b[0;36mexplicit_indexing_adapter\u001b[0;34m(key, shape, indexing_support, raw_indexing_method)\u001b[0m\n\u001b[1;32m    996\u001b[0m \u001b[38;5;250m\u001b[39m\u001b[38;5;124;03m\"\"\"Support explicit indexing by delegating to a raw indexing method.\u001b[39;00m\n\u001b[1;32m    997\u001b[0m \n\u001b[1;32m    998\u001b[0m \u001b[38;5;124;03mOuter and/or vectorized indexers are supported by indexing a second time\u001b[39;00m\n\u001b[0;32m   (...)\u001b[0m\n\u001b[1;32m   1015\u001b[0m \u001b[38;5;124;03mIndexing result, in the form of a duck numpy-array.\u001b[39;00m\n\u001b[1;32m   1016\u001b[0m \u001b[38;5;124;03m\"\"\"\u001b[39;00m\n\u001b[1;32m   1017\u001b[0m raw_key, numpy_indices \u001b[38;5;241m=\u001b[39m decompose_indexer(key, shape, indexing_support)\n\u001b[0;32m-> 1018\u001b[0m result \u001b[38;5;241m=\u001b[39m \u001b[43mraw_indexing_method\u001b[49m\u001b[43m(\u001b[49m\u001b[43mraw_key\u001b[49m\u001b[38;5;241;43m.\u001b[39;49m\u001b[43mtuple\u001b[49m\u001b[43m)\u001b[49m\n\u001b[1;32m   1019\u001b[0m \u001b[38;5;28;01mif\u001b[39;00m numpy_indices\u001b[38;5;241m.\u001b[39mtuple:\n\u001b[1;32m   1020\u001b[0m     \u001b[38;5;66;03m# index the loaded np.ndarray\u001b[39;00m\n\u001b[1;32m   1021\u001b[0m     indexable \u001b[38;5;241m=\u001b[39m NumpyIndexingAdapter(result)\n",
      "File \u001b[0;32m~/anaconda3/envs/NeuralGCM/lib/python3.10/site-packages/xarray/backends/zarr.py:156\u001b[0m, in \u001b[0;36mZarrArrayWrapper._getitem\u001b[0;34m(self, key)\u001b[0m\n\u001b[1;32m    155\u001b[0m \u001b[38;5;28;01mdef\u001b[39;00m \u001b[38;5;21m_getitem\u001b[39m(\u001b[38;5;28mself\u001b[39m, key):\n\u001b[0;32m--> 156\u001b[0m     \u001b[38;5;28;01mreturn\u001b[39;00m \u001b[38;5;28;43mself\u001b[39;49m\u001b[38;5;241;43m.\u001b[39;49m\u001b[43m_array\u001b[49m\u001b[43m[\u001b[49m\u001b[43mkey\u001b[49m\u001b[43m]\u001b[49m\n",
      "File \u001b[0;32m~/anaconda3/envs/NeuralGCM/lib/python3.10/site-packages/zarr/core.py:795\u001b[0m, in \u001b[0;36mArray.__getitem__\u001b[0;34m(self, selection)\u001b[0m\n\u001b[1;32m    793\u001b[0m     result \u001b[38;5;241m=\u001b[39m \u001b[38;5;28mself\u001b[39m\u001b[38;5;241m.\u001b[39mvindex[selection]\n\u001b[1;32m    794\u001b[0m \u001b[38;5;28;01melif\u001b[39;00m is_pure_orthogonal_indexing(pure_selection, \u001b[38;5;28mself\u001b[39m\u001b[38;5;241m.\u001b[39mndim):\n\u001b[0;32m--> 795\u001b[0m     result \u001b[38;5;241m=\u001b[39m \u001b[38;5;28;43mself\u001b[39;49m\u001b[38;5;241;43m.\u001b[39;49m\u001b[43mget_orthogonal_selection\u001b[49m\u001b[43m(\u001b[49m\u001b[43mpure_selection\u001b[49m\u001b[43m,\u001b[49m\u001b[43m \u001b[49m\u001b[43mfields\u001b[49m\u001b[38;5;241;43m=\u001b[39;49m\u001b[43mfields\u001b[49m\u001b[43m)\u001b[49m\n\u001b[1;32m    796\u001b[0m \u001b[38;5;28;01melse\u001b[39;00m:\n\u001b[1;32m    797\u001b[0m     result \u001b[38;5;241m=\u001b[39m \u001b[38;5;28mself\u001b[39m\u001b[38;5;241m.\u001b[39mget_basic_selection(pure_selection, fields\u001b[38;5;241m=\u001b[39mfields)\n",
      "File \u001b[0;32m~/anaconda3/envs/NeuralGCM/lib/python3.10/site-packages/zarr/core.py:1077\u001b[0m, in \u001b[0;36mArray.get_orthogonal_selection\u001b[0;34m(self, selection, out, fields)\u001b[0m\n\u001b[1;32m   1074\u001b[0m \u001b[38;5;66;03m# setup indexer\u001b[39;00m\n\u001b[1;32m   1075\u001b[0m indexer \u001b[38;5;241m=\u001b[39m OrthogonalIndexer(selection, \u001b[38;5;28mself\u001b[39m)\n\u001b[0;32m-> 1077\u001b[0m \u001b[38;5;28;01mreturn\u001b[39;00m \u001b[38;5;28;43mself\u001b[39;49m\u001b[38;5;241;43m.\u001b[39;49m\u001b[43m_get_selection\u001b[49m\u001b[43m(\u001b[49m\u001b[43mindexer\u001b[49m\u001b[38;5;241;43m=\u001b[39;49m\u001b[43mindexer\u001b[49m\u001b[43m,\u001b[49m\u001b[43m \u001b[49m\u001b[43mout\u001b[49m\u001b[38;5;241;43m=\u001b[39;49m\u001b[43mout\u001b[49m\u001b[43m,\u001b[49m\u001b[43m \u001b[49m\u001b[43mfields\u001b[49m\u001b[38;5;241;43m=\u001b[39;49m\u001b[43mfields\u001b[49m\u001b[43m)\u001b[49m\n",
      "File \u001b[0;32m~/anaconda3/envs/NeuralGCM/lib/python3.10/site-packages/zarr/core.py:1329\u001b[0m, in \u001b[0;36mArray._get_selection\u001b[0;34m(self, indexer, out, fields)\u001b[0m\n\u001b[1;32m   1327\u001b[0m \u001b[38;5;66;03m# setup output array\u001b[39;00m\n\u001b[1;32m   1328\u001b[0m \u001b[38;5;28;01mif\u001b[39;00m out \u001b[38;5;129;01mis\u001b[39;00m \u001b[38;5;28;01mNone\u001b[39;00m:\n\u001b[0;32m-> 1329\u001b[0m     out \u001b[38;5;241m=\u001b[39m \u001b[43mnp\u001b[49m\u001b[38;5;241;43m.\u001b[39;49m\u001b[43mempty_like\u001b[49m\u001b[43m(\u001b[49m\n\u001b[1;32m   1330\u001b[0m \u001b[43m        \u001b[49m\u001b[38;5;28;43mself\u001b[39;49m\u001b[38;5;241;43m.\u001b[39;49m\u001b[43m_meta_array\u001b[49m\u001b[43m,\u001b[49m\u001b[43m \u001b[49m\u001b[43mshape\u001b[49m\u001b[38;5;241;43m=\u001b[39;49m\u001b[43mout_shape\u001b[49m\u001b[43m,\u001b[49m\u001b[43m \u001b[49m\u001b[43mdtype\u001b[49m\u001b[38;5;241;43m=\u001b[39;49m\u001b[43mout_dtype\u001b[49m\u001b[43m,\u001b[49m\u001b[43m \u001b[49m\u001b[43morder\u001b[49m\u001b[38;5;241;43m=\u001b[39;49m\u001b[38;5;28;43mself\u001b[39;49m\u001b[38;5;241;43m.\u001b[39;49m\u001b[43m_order\u001b[49m\n\u001b[1;32m   1331\u001b[0m \u001b[43m    \u001b[49m\u001b[43m)\u001b[49m\n\u001b[1;32m   1332\u001b[0m \u001b[38;5;28;01melse\u001b[39;00m:\n\u001b[1;32m   1333\u001b[0m     check_array_shape(\u001b[38;5;124m\"\u001b[39m\u001b[38;5;124mout\u001b[39m\u001b[38;5;124m\"\u001b[39m, out, out_shape)\n",
      "\u001b[0;31mMemoryError\u001b[0m: Unable to allocate 471. GiB for an array with shape (3289, 37, 721, 1440) and data type float32"
     ]
    }
   ],
   "source": [
    "sliced_era5 = (\n",
    "    full_era5\n",
    "    [model.input_variables + model.forcing_variables]\n",
    "    .pipe(\n",
    "        xarray_utils.selective_temporal_shift,\n",
    "        variables=model.forcing_variables,\n",
    "        time_shift='24 hours',\n",
    "    )\n",
    "    .sel(time=slice(start_time, end_time, data_inner_steps))\n",
    "    .compute()\n",
    ")\n",
    "\n",
    "era5_grid = spherical_harmonic.Grid(\n",
    "    latitude_nodes=full_era5.sizes['latitude'],\n",
    "    longitude_nodes=full_era5.sizes['longitude'],\n",
    "    latitude_spacing=xarray_utils.infer_latitude_spacing(full_era5.latitude),\n",
    "    longitude_offset=xarray_utils.infer_longitude_offset(full_era5.longitude),\n",
    ")\n",
    "\n",
    "regridder = horizontal_interpolation.ConservativeRegridder(\n",
    "    era5_grid, model.data_coords.horizontal, skipna=True\n",
    ")\n",
    "    \n",
    "eval_era5 = xarray_utils.regrid(sliced_era5, regridder)\n",
    "eval_era5 = xarray_utils.fill_nan_with_nearest(eval_era5)"
   ]
  },
  {
   "cell_type": "markdown",
   "metadata": {
    "id": "xrbru3K1bo81"
   },
   "source": [
    "## Make the forecast"
   ]
  },
  {
   "cell_type": "markdown",
   "metadata": {
    "id": "kVCC2pO8eZE0"
   },
   "source": [
    "<span style=\"color:blue\"> TODO later </span> add description?"
   ]
  },
  {
   "cell_type": "code",
   "execution_count": 44,
   "metadata": {},
   "outputs": [],
   "source": [
    "class GracefulExit:\n",
    "    \"\"\"Handles graceful exit and file closing.\"\"\"\n",
    "    def __init__(self, file):\n",
    "        self.file = file\n",
    "        self.is_running = True\n",
    "\n",
    "    def __enter__(self):\n",
    "        return self\n",
    "\n",
    "    def __exit__(self, exc_type, exc_value, traceback):\n",
    "        self.cleanup()\n",
    "\n",
    "    def cleanup(self):\n",
    "        print(\"Shutting down gracefully...\")\n",
    "        if not self.file.closed:\n",
    "            self.file.close()\n",
    "        self.is_running = False\n",
    "\n",
    "# Signal handler to trigger cleanup\n",
    "def handle_signal(signum, frame):\n",
    "    global graceful_exit_context\n",
    "    graceful_exit_context.cleanup()"
   ]
  },
  {
   "cell_type": "code",
   "execution_count": null,
   "metadata": {},
   "outputs": [],
   "source": [
    "# Parameters for 30-year rollout\n",
    "years = 30\n",
    "days_per_year = 365  # Exclude leap years for simplicity\n",
    "inner_steps = 24  # Save model outputs every 24 hours\n",
    "hours_per_day = 24\n",
    "outer_steps = (days_per_year * years * hours_per_day) // inner_steps  # Total steps for 30 years\n",
    "timedelta = np.timedelta64(inner_steps, 'h')  # Time interval between model outputs\n",
    "times = np.arange(outer_steps) * inner_steps  # Time axis in hours\n",
    "\n",
    "# Placeholder model and data (replace with actual implementations)\n",
    "# model = ...\n",
    "# eval_era5 = ..."
   ]
  },
  {
   "cell_type": "code",
   "execution_count": 43,
   "metadata": {},
   "outputs": [
    {
     "name": "stdout",
     "output_type": "stream",
     "text": [
      "Initializing model state...\n",
      "An error occurred: name 'eval_era5' is not defined\n",
      "Shutting down gracefully...\n",
      "Execution stopped.\n",
      "Shutting down gracefully...\n"
     ]
    }
   ],
   "source": [
    "# Register signal handlers\n",
    "signal.signal(signal.SIGINT, handle_signal)\n",
    "signal.signal(signal.SIGTERM, handle_signal)\n",
    "\n",
    "output_file = \"30_year_rollout_predictions.nc\"\n",
    "\n",
    "with open(output_file, \"w\") as nc_file:\n",
    "    with GracefulExit(nc_file) as graceful_exit_context:\n",
    "        try:\n",
    "            # Initialize model state\n",
    "            print(\"Initializing model state...\")\n",
    "            inputs = model.inputs_from_xarray(eval_era5.isel(time=0))\n",
    "            input_forcings = model.forcings_from_xarray(eval_era5.isel(time=0))\n",
    "            rng_key = jax.random.key(42)  # Optional for deterministic models\n",
    "            initial_state = model.encode(inputs, input_forcings, rng_key)\n",
    "\n",
    "            # Use persistence for forcing variables (e.g., SST and sea ice cover)\n",
    "            print(\"Using persistent forcing variables...\")\n",
    "            all_forcings = model.forcings_from_xarray(eval_era5.head(time=1))\n",
    "\n",
    "            # Make forecast\n",
    "            print(f\"Starting 30-year rollout with {outer_steps} steps...\")\n",
    "            final_state, predictions = model.unroll(\n",
    "                initial_state,\n",
    "                all_forcings,\n",
    "                steps=outer_steps,\n",
    "                timedelta=timedelta,\n",
    "                start_with_input=True,\n",
    "            )\n",
    "\n",
    "            # Convert predictions to xarray dataset\n",
    "            print(\"Converting predictions to xarray.Dataset...\")\n",
    "            #print(predictions)\n",
    "            predictions_ds = model.data_to_xarray(predictions, times=times)\n",
    "            print(predictions_ds)\n",
    "            # Save results to a NetCDF file\n",
    "            print(\"Applying chunking to the dataset...\")\n",
    "            #chunked_ds = predictions_ds.chunk({'time': 100})  # Adjust chunk size as needed\n",
    "            #chunked_ds.to_netcdf(output_file, mode='w', engine='netcdf4')\n",
    "\n",
    "\n",
    "            # Final message\n",
    "            print(\"30-year rollout completed successfully.\")\n",
    "\n",
    "        except Exception as e:\n",
    "            print(f\"An error occurred: {e}\")\n",
    "            graceful_exit_context.cleanup()\n",
    "        finally:\n",
    "            print(\"Execution stopped.\")"
   ]
  },
  {
   "cell_type": "markdown",
   "metadata": {
    "id": "W7lhecHtbo82"
   },
   "source": [
    "## Compare forecast to ERA5\n",
    "\n",
    "<span style=\"color:blue\"> TODO later </span> add description?"
   ]
  },
  {
   "cell_type": "code",
   "execution_count": 24,
   "metadata": {
    "colab": {
     "base_uri": "https://localhost:8080/"
    },
    "id": "V-GG0YrV7cMG",
    "outputId": "5438e4b5-aa35-495e-c2b5-7f43494dcb47"
   },
   "outputs": [
    {
     "ename": "NameError",
     "evalue": "name 'eval_era5' is not defined",
     "output_type": "error",
     "traceback": [
      "\u001b[0;31m---------------------------------------------------------------------------\u001b[0m",
      "\u001b[0;31mNameError\u001b[0m                                 Traceback (most recent call last)",
      "Cell \u001b[0;32mIn[24], line 3\u001b[0m\n\u001b[1;32m      1\u001b[0m \u001b[38;5;66;03m# Selecting ERA5 targets from exactly the same time slice\u001b[39;00m\n\u001b[1;32m      2\u001b[0m target_trajectory \u001b[38;5;241m=\u001b[39m model\u001b[38;5;241m.\u001b[39minputs_from_xarray(\n\u001b[0;32m----> 3\u001b[0m     \u001b[43meval_era5\u001b[49m\n\u001b[1;32m      4\u001b[0m     \u001b[38;5;241m.\u001b[39mthin(time\u001b[38;5;241m=\u001b[39m(inner_steps \u001b[38;5;241m/\u001b[39m\u001b[38;5;241m/\u001b[39m data_inner_steps))\n\u001b[1;32m      5\u001b[0m     \u001b[38;5;241m.\u001b[39misel(time\u001b[38;5;241m=\u001b[39m\u001b[38;5;28mslice\u001b[39m(outer_steps))\n\u001b[1;32m      6\u001b[0m )\n\u001b[1;32m      7\u001b[0m target_data_ds \u001b[38;5;241m=\u001b[39m model\u001b[38;5;241m.\u001b[39mdata_to_xarray(target_trajectory, times\u001b[38;5;241m=\u001b[39mtimes)\n\u001b[1;32m      9\u001b[0m combined_ds \u001b[38;5;241m=\u001b[39m xarray\u001b[38;5;241m.\u001b[39mconcat([target_data_ds, predictions_ds], \u001b[38;5;124m'\u001b[39m\u001b[38;5;124mmodel\u001b[39m\u001b[38;5;124m'\u001b[39m)\n",
      "\u001b[0;31mNameError\u001b[0m: name 'eval_era5' is not defined"
     ]
    }
   ],
   "source": [
    "# Selecting ERA5 targets from exactly the same time slice\n",
    "target_trajectory = model.inputs_from_xarray(\n",
    "    eval_era5\n",
    "    .thin(time=(inner_steps // data_inner_steps))\n",
    "    .isel(time=slice(outer_steps))\n",
    ")\n",
    "target_data_ds = model.data_to_xarray(target_trajectory, times=times)\n",
    "\n",
    "combined_ds = xarray.concat([target_data_ds, predictions_ds], 'model')\n",
    "combined_ds.coords['model'] = ['ERA5', 'NeuralGCM']"
   ]
  },
  {
   "cell_type": "code",
   "execution_count": 25,
   "metadata": {
    "colab": {
     "base_uri": "https://localhost:8080/",
     "height": 806
    },
    "id": "EUoubIO67uTW",
    "outputId": "f2acc749-a9fb-4cab-a10a-b89e2d016791"
   },
   "outputs": [
    {
     "ename": "NameError",
     "evalue": "name 'combined_ds' is not defined",
     "output_type": "error",
     "traceback": [
      "\u001b[0;31m---------------------------------------------------------------------------\u001b[0m",
      "\u001b[0;31mNameError\u001b[0m                                 Traceback (most recent call last)",
      "Cell \u001b[0;32mIn[25], line 2\u001b[0m\n\u001b[1;32m      1\u001b[0m \u001b[38;5;66;03m# Visualize ERA5 vs NeuralGCM trajectories\u001b[39;00m\n\u001b[0;32m----> 2\u001b[0m \u001b[43mcombined_ds\u001b[49m\u001b[38;5;241m.\u001b[39mspecific_humidity\u001b[38;5;241m.\u001b[39msel(level\u001b[38;5;241m=\u001b[39m\u001b[38;5;241m850\u001b[39m)\u001b[38;5;241m.\u001b[39mplot(\n\u001b[1;32m      3\u001b[0m     x\u001b[38;5;241m=\u001b[39m\u001b[38;5;124m'\u001b[39m\u001b[38;5;124mlongitude\u001b[39m\u001b[38;5;124m'\u001b[39m, y\u001b[38;5;241m=\u001b[39m\u001b[38;5;124m'\u001b[39m\u001b[38;5;124mlatitude\u001b[39m\u001b[38;5;124m'\u001b[39m, row\u001b[38;5;241m=\u001b[39m\u001b[38;5;124m'\u001b[39m\u001b[38;5;124mtime\u001b[39m\u001b[38;5;124m'\u001b[39m, col\u001b[38;5;241m=\u001b[39m\u001b[38;5;124m'\u001b[39m\u001b[38;5;124mmodel\u001b[39m\u001b[38;5;124m'\u001b[39m, robust\u001b[38;5;241m=\u001b[39m\u001b[38;5;28;01mTrue\u001b[39;00m, aspect\u001b[38;5;241m=\u001b[39m\u001b[38;5;241m2\u001b[39m, size\u001b[38;5;241m=\u001b[39m\u001b[38;5;241m2\u001b[39m\n\u001b[1;32m      4\u001b[0m );\n",
      "\u001b[0;31mNameError\u001b[0m: name 'combined_ds' is not defined"
     ]
    }
   ],
   "source": [
    "# Visualize ERA5 vs NeuralGCM trajectories\n",
    "combined_ds.specific_humidity.sel(level=850).plot(\n",
    "    x='longitude', y='latitude', row='time', col='model', robust=True, aspect=2, size=2\n",
    ");"
   ]
  },
  {
   "cell_type": "markdown",
   "metadata": {},
   "source": [
    "## Data Analysis"
   ]
  },
  {
   "cell_type": "code",
   "execution_count": 26,
   "metadata": {},
   "outputs": [],
   "source": [
    "@jit\n",
    "def thornthwaite(temp, lat):\n",
    "    \"\"\"Calculate Potential Evapotranspiration (PET) using Thornthwaite's equation.\"\"\"\n",
    "    N = len(temp)\n",
    "    I = sum((temp[temp > 0] / 5) ** 1.514)  # Monthly temperature index\n",
    "    a = (6.75e-7 * I ** 3) - (7.71e-5 * I ** 2) + (1.792e-2 * I) + 0.49239\n",
    "    PET = np.zeros(N)\n",
    "    for i in range(N):\n",
    "        if temp[i] > 0:\n",
    "            L = 12  # Assume 12 hours of daylight on average\n",
    "            PET[i] = (16 * ((10 * temp[i] / I) ** a) * (L / 12))\n",
    "    return PET"
   ]
  },
  {
   "cell_type": "code",
   "execution_count": 27,
   "metadata": {},
   "outputs": [
    {
     "name": "stdout",
     "output_type": "stream",
     "text": [
      "Calculating PET...\n"
     ]
    },
    {
     "ename": "NameError",
     "evalue": "name 'predictions_ds' is not defined",
     "output_type": "error",
     "traceback": [
      "\u001b[0;31m---------------------------------------------------------------------------\u001b[0m",
      "\u001b[0;31mNameError\u001b[0m                                 Traceback (most recent call last)",
      "Cell \u001b[0;32mIn[27], line 4\u001b[0m\n\u001b[1;32m      1\u001b[0m \u001b[38;5;28mprint\u001b[39m(\u001b[38;5;124m\"\u001b[39m\u001b[38;5;124mCalculating PET...\u001b[39m\u001b[38;5;124m\"\u001b[39m)\n\u001b[1;32m      2\u001b[0m predictions_ds[\u001b[38;5;124m'\u001b[39m\u001b[38;5;124mPET\u001b[39m\u001b[38;5;124m'\u001b[39m] \u001b[38;5;241m=\u001b[39m xr\u001b[38;5;241m.\u001b[39mapply_ufunc(\n\u001b[1;32m      3\u001b[0m     thornthwaite,\n\u001b[0;32m----> 4\u001b[0m     \u001b[43mpredictions_ds\u001b[49m[\u001b[38;5;124m'\u001b[39m\u001b[38;5;124mtemperature\u001b[39m\u001b[38;5;124m'\u001b[39m],\n\u001b[1;32m      5\u001b[0m     kwargs\u001b[38;5;241m=\u001b[39m{\u001b[38;5;124m'\u001b[39m\u001b[38;5;124mlat\u001b[39m\u001b[38;5;124m'\u001b[39m: \u001b[38;5;241m45\u001b[39m},  \u001b[38;5;66;03m# Replace 45 with the actual latitude if available\u001b[39;00m\n\u001b[1;32m      6\u001b[0m     vectorize\u001b[38;5;241m=\u001b[39m\u001b[38;5;28;01mTrue\u001b[39;00m\n\u001b[1;32m      7\u001b[0m )\n",
      "\u001b[0;31mNameError\u001b[0m: name 'predictions_ds' is not defined"
     ]
    }
   ],
   "source": [
    "print(\"Calculating PET...\")\n",
    "predictions_ds['PET'] = xr.apply_ufunc(\n",
    "    thornthwaite,\n",
    "    predictions_ds['temperature'],\n",
    "    kwargs={'lat': 45},  # Replace 45 with the actual latitude if available\n",
    "    vectorize=True\n",
    ")"
   ]
  },
  {
   "cell_type": "code",
   "execution_count": 28,
   "metadata": {},
   "outputs": [
    {
     "name": "stdout",
     "output_type": "stream",
     "text": [
      "Calculating D (P - PET)...\n"
     ]
    },
    {
     "ename": "NameError",
     "evalue": "name 'predictions_ds' is not defined",
     "output_type": "error",
     "traceback": [
      "\u001b[0;31m---------------------------------------------------------------------------\u001b[0m",
      "\u001b[0;31mNameError\u001b[0m                                 Traceback (most recent call last)",
      "Cell \u001b[0;32mIn[28], line 2\u001b[0m\n\u001b[1;32m      1\u001b[0m \u001b[38;5;28mprint\u001b[39m(\u001b[38;5;124m\"\u001b[39m\u001b[38;5;124mCalculating D (P - PET)...\u001b[39m\u001b[38;5;124m\"\u001b[39m)\n\u001b[0;32m----> 2\u001b[0m predictions_ds[\u001b[38;5;124m'\u001b[39m\u001b[38;5;124mD\u001b[39m\u001b[38;5;124m'\u001b[39m] \u001b[38;5;241m=\u001b[39m \u001b[43mpredictions_ds\u001b[49m[\u001b[38;5;124m'\u001b[39m\u001b[38;5;124mP_minus_E_cumulative\u001b[39m\u001b[38;5;124m'\u001b[39m] \u001b[38;5;241m-\u001b[39m predictions_ds[\u001b[38;5;124m'\u001b[39m\u001b[38;5;124mPET\u001b[39m\u001b[38;5;124m'\u001b[39m]\n",
      "\u001b[0;31mNameError\u001b[0m: name 'predictions_ds' is not defined"
     ]
    }
   ],
   "source": [
    "print(\"Calculating D (P - PET)...\")\n",
    "predictions_ds['D'] = predictions_ds['P_minus_E_cumulative'] - predictions_ds['PET']"
   ]
  },
  {
   "cell_type": "code",
   "execution_count": 29,
   "metadata": {},
   "outputs": [
    {
     "name": "stdout",
     "output_type": "stream",
     "text": [
      "Calculating SPEI...\n"
     ]
    },
    {
     "ename": "NameError",
     "evalue": "name 'predictions_ds' is not defined",
     "output_type": "error",
     "traceback": [
      "\u001b[0;31m---------------------------------------------------------------------------\u001b[0m",
      "\u001b[0;31mNameError\u001b[0m                                 Traceback (most recent call last)",
      "Cell \u001b[0;32mIn[29], line 9\u001b[0m\n\u001b[1;32m      6\u001b[0m     \u001b[38;5;28;01mreturn\u001b[39;00m spei\n\u001b[1;32m      8\u001b[0m \u001b[38;5;28mprint\u001b[39m(\u001b[38;5;124m\"\u001b[39m\u001b[38;5;124mCalculating SPEI...\u001b[39m\u001b[38;5;124m\"\u001b[39m)\n\u001b[0;32m----> 9\u001b[0m predictions_ds[\u001b[38;5;124m'\u001b[39m\u001b[38;5;124mSPEI\u001b[39m\u001b[38;5;124m'\u001b[39m] \u001b[38;5;241m=\u001b[39m compute_spei(\u001b[43mpredictions_ds\u001b[49m[\u001b[38;5;124m'\u001b[39m\u001b[38;5;124mD\u001b[39m\u001b[38;5;124m'\u001b[39m])\n",
      "\u001b[0;31mNameError\u001b[0m: name 'predictions_ds' is not defined"
     ]
    }
   ],
   "source": [
    "def compute_spei(D, scale=3):\n",
    "    \"\"\"Compute SPEI at a given scale (e.g., 3-month rolling).\"\"\"\n",
    "    rolling_mean = D.rolling(time=scale, center=False).mean()\n",
    "    rolling_std = D.rolling(time=scale, center=False).std()\n",
    "    spei = (rolling_mean - rolling_mean.mean(dim=\"time\")) / rolling_std\n",
    "    return spei\n",
    "\n",
    "print(\"Calculating SPEI...\")\n",
    "predictions_ds['SPEI'] = compute_spei(predictions_ds['D'])"
   ]
  },
  {
   "cell_type": "code",
   "execution_count": 30,
   "metadata": {
    "id": "96H8CLDo3Rzx"
   },
   "outputs": [
    {
     "name": "stdout",
     "output_type": "stream",
     "text": [
      "Plotting SPEI for (lat=0, lon=0)...\n"
     ]
    },
    {
     "ename": "NameError",
     "evalue": "name 'predictions_ds' is not defined",
     "output_type": "error",
     "traceback": [
      "\u001b[0;31m---------------------------------------------------------------------------\u001b[0m",
      "\u001b[0;31mNameError\u001b[0m                                 Traceback (most recent call last)",
      "Cell \u001b[0;32mIn[30], line 17\u001b[0m\n\u001b[1;32m     15\u001b[0m \u001b[38;5;66;03m# Example plot for a specific location (adjust latitude/longitude)\u001b[39;00m\n\u001b[1;32m     16\u001b[0m \u001b[38;5;28mprint\u001b[39m(\u001b[38;5;124m\"\u001b[39m\u001b[38;5;124mPlotting SPEI for (lat=0, lon=0)...\u001b[39m\u001b[38;5;124m\"\u001b[39m)\n\u001b[0;32m---> 17\u001b[0m plot_spei(\u001b[43mpredictions_ds\u001b[49m[\u001b[38;5;124m'\u001b[39m\u001b[38;5;124mSPEI\u001b[39m\u001b[38;5;124m'\u001b[39m], lat\u001b[38;5;241m=\u001b[39m\u001b[38;5;241m45\u001b[39m, lon\u001b[38;5;241m=\u001b[39m\u001b[38;5;241m20\u001b[39m)\n",
      "\u001b[0;31mNameError\u001b[0m: name 'predictions_ds' is not defined"
     ]
    }
   ],
   "source": [
    "#Plot SPEI\n",
    "def plot_spei(spei, lat=0, lon=0):\n",
    "    \"\"\"Plot SPEI time series for a given location.\"\"\"\n",
    "    spei_point = spei.sel(latitude=lat, longitude=lon, method=\"nearest\")\n",
    "    plt.figure(figsize=(10, 6))\n",
    "    spei_point.plot(label=\"SPEI\")\n",
    "    plt.axhline(0, color=\"k\", linestyle=\"--\", linewidth=1)\n",
    "    plt.title(f\"SPEI at Location (lat: {lat}, lon: {lon})\")\n",
    "    plt.xlabel(\"Time\")\n",
    "    plt.ylabel(\"SPEI\")\n",
    "    plt.legend()\n",
    "    plt.grid()\n",
    "    plt.show()\n",
    "\n",
    "# Example plot for a specific location (adjust latitude/longitude)\n",
    "print(\"Plotting SPEI for (lat=0, lon=0)...\")\n",
    "plot_spei(predictions_ds['SPEI'], lat=45, lon=20)\n"
   ]
  },
  {
   "cell_type": "markdown",
   "metadata": {
    "id": "6tkGJv8VEgFa"
   },
   "source": [
    "## Adding later"
   ]
  },
  {
   "cell_type": "code",
   "execution_count": null,
   "metadata": {},
   "outputs": [],
   "source": [
    "from PIL import Image\n",
    "from IPython.display import display\n",
    "\n",
    "img = Image.open('images/Spain_range_1.png')\n",
    "display(img)"
   ]
  },
  {
   "cell_type": "code",
   "execution_count": null,
   "metadata": {},
   "outputs": [],
   "source": [
    "from PIL import Image\n",
    "from IPython.display import display\n",
    "\n",
    "img = Image.open('images/Spain_range_2.png')\n",
    "display(img)"
   ]
  },
  {
   "cell_type": "code",
   "execution_count": null,
   "metadata": {},
   "outputs": [],
   "source": [
    "img = Image.open('images/Spain_range_3.png')\n",
    "display(img)"
   ]
  }
 ],
 "metadata": {
  "accelerator": "GPU",
  "colab": {
   "gpuType": "T4",
   "provenance": []
  },
  "kernelspec": {
   "display_name": "NeuralGCM",
   "language": "python",
   "name": "neuralgcm"
  },
  "language_info": {
   "codemirror_mode": {
    "name": "ipython",
    "version": 3
   },
   "file_extension": ".py",
   "mimetype": "text/x-python",
   "name": "python",
   "nbconvert_exporter": "python",
   "pygments_lexer": "ipython3",
   "version": "3.10.15"
  }
 },
 "nbformat": 4,
 "nbformat_minor": 4
}
